{
 "cells": [
  {
   "cell_type": "markdown",
   "id": "76d11287-c0b1-4d2c-a947-a692d4f8bdf3",
   "metadata": {},
   "source": [
    "# Setup"
   ]
  },
  {
   "cell_type": "code",
   "execution_count": 1,
   "id": "76cc7f23-1c6a-4bbe-8945-ae72464d1b2d",
   "metadata": {},
   "outputs": [],
   "source": [
    "import loompy as lp\n",
    "import anndata as ad\n",
    "import fast_matrix_market as fmm\n",
    "import pandas as pd\n",
    "import scvelo as scv\n",
    "import dynamo as dyn\n",
    "import matplotlib.pyplot as plt\n",
    "import os"
   ]
  },
  {
   "cell_type": "markdown",
   "id": "0338bf66-3d5c-4daa-95e0-ad9fc92fdd20",
   "metadata": {},
   "source": [
    "# Create H5AD file"
   ]
  },
  {
   "cell_type": "markdown",
   "id": "df281f7e-c6d0-4beb-80df-286fdbcc3d4b",
   "metadata": {},
   "source": [
    "We provide merged dataset in `velocity.loom`."
   ]
  },
  {
   "cell_type": "code",
   "execution_count": 4,
   "id": "83a6771b-1f2a-48d2-92b9-45a9399e1087",
   "metadata": {},
   "outputs": [],
   "source": [
    "adata = ad.read_loom(\"velocity.loom\")"
   ]
  },
  {
   "cell_type": "code",
   "execution_count": 5,
   "id": "29ac3871-6ce6-408b-a337-4a98aebe208d",
   "metadata": {},
   "outputs": [
    {
     "data": {
      "text/plain": [
       "AnnData object with n_obs × n_vars = 140260 × 36601\n",
       "    var: 'Accession', 'Chromosome', 'End', 'Start', 'Strand'\n",
       "    layers: 'matrix', 'ambiguous', 'spliced', 'unspliced'"
      ]
     },
     "execution_count": 5,
     "metadata": {},
     "output_type": "execute_result"
    }
   ],
   "source": [
    "adata"
   ]
  },
  {
   "cell_type": "markdown",
   "id": "8f6a1dde-c9c7-4f2f-abed-1792ceb8c06a",
   "metadata": {},
   "source": [
    "Make unique gene names and update cell names to match those from R"
   ]
  },
  {
   "cell_type": "code",
   "execution_count": 6,
   "id": "9b941eb4-767e-44d3-9eba-194a8baea3bb",
   "metadata": {},
   "outputs": [
    {
     "data": {
      "text/plain": [
       "Index(['C744:AAAGGGCGTGTGGACAx', 'C744:AAACCCAGTGCCGAAAx',\n",
       "       'C744:AAAGGGCGTTGGCCTGx', 'C744:AAACGCTTCAGATTGCx',\n",
       "       'C744:AAACGCTGTGACACAGx', 'C744:AAACGCTAGAGGTCGTx',\n",
       "       'C744:AAACGCTTCCACAGCGx', 'C744:AAACCCAAGAATTTGGx',\n",
       "       'C744:AAACCCAGTAATTAGGx', 'C744:AAACGAAGTGGCTGAAx',\n",
       "       ...\n",
       "       'C751:TTTGTTGCAACACAGGx', 'C751:TTTGTTGAGTTTCGACx',\n",
       "       'C751:TTTGGAGTCTGATTCTx', 'C751:TTTGTTGGTGGCTTGCx',\n",
       "       'C751:TTTGGAGAGTGGTTAAx', 'C751:TTTGTTGGTCAATGGGx',\n",
       "       'C751:TTTGTTGTCATCGCCTx', 'C751:TTTGGAGCAACACAGGx',\n",
       "       'C751:TTTGTTGCAACTCGTAx', 'C751:TTTGTTGTCCACTAGAx'],\n",
       "      dtype='object', length=140260)"
      ]
     },
     "execution_count": 6,
     "metadata": {},
     "output_type": "execute_result"
    }
   ],
   "source": [
    "adata.obs.index"
   ]
  },
  {
   "cell_type": "code",
   "execution_count": 7,
   "id": "29a78c3f-6ef8-4d7b-8c17-070059613de0",
   "metadata": {},
   "outputs": [],
   "source": [
    "new_index = []\n",
    "for string in adata.obs.index:\n",
    "    new_index.append(string.replace(\":\", \"!!\").replace(\"x\", \"-1\"))\n",
    "\n",
    "adata.obs.index = new_index"
   ]
  },
  {
   "cell_type": "code",
   "execution_count": 8,
   "id": "56927f32-2c4d-4a4f-93c4-c17fd9aa3f68",
   "metadata": {},
   "outputs": [],
   "source": [
    "adata.var_names_make_unique()"
   ]
  },
  {
   "cell_type": "code",
   "execution_count": 9,
   "id": "e44ca584-0e1a-4ca9-9f33-e0718c4fc5a2",
   "metadata": {},
   "outputs": [],
   "source": [
    "adata.obs.index.name = \"cells\"\n",
    "adata.var.index.name = \"genes\""
   ]
  },
  {
   "cell_type": "markdown",
   "id": "acae9c76-cd3e-4f51-83e5-30dade47a117",
   "metadata": {},
   "source": [
    "## Save file"
   ]
  },
  {
   "cell_type": "code",
   "execution_count": 10,
   "id": "52f22b3e-bb64-4fea-88d5-6dfae462816e",
   "metadata": {},
   "outputs": [],
   "source": [
    "adata.write_h5ad(\"velocity.h5ad\")"
   ]
  },
  {
   "cell_type": "code",
   "execution_count": 11,
   "id": "040fbad4-7fa4-4263-bca1-a147bb399885",
   "metadata": {},
   "outputs": [
    {
     "data": {
      "text/plain": [
       "AnnData object with n_obs × n_vars = 140260 × 36601\n",
       "    var: 'Accession', 'Chromosome', 'End', 'Start', 'Strand'\n",
       "    layers: 'matrix', 'ambiguous', 'spliced', 'unspliced'"
      ]
     },
     "execution_count": 11,
     "metadata": {},
     "output_type": "execute_result"
    }
   ],
   "source": [
    "adata"
   ]
  },
  {
   "cell_type": "markdown",
   "id": "3e31bfdb-880f-4c9f-9d00-8b6e725f7a23",
   "metadata": {},
   "source": [
    "# Create subsets"
   ]
  },
  {
   "cell_type": "code",
   "execution_count": 2,
   "id": "ce840510-33d4-4451-9b46-c8b0bde635c2",
   "metadata": {},
   "outputs": [],
   "source": [
    "adata = ad.read_h5ad(\"velocity.h5ad\")"
   ]
  },
  {
   "cell_type": "markdown",
   "id": "1b06c4c4-69c5-480d-9527-771da360b0d2",
   "metadata": {},
   "source": [
    "## Vascular"
   ]
  },
  {
   "cell_type": "markdown",
   "id": "59f9a3df-9a6f-45f7-b521-82541e482209",
   "metadata": {},
   "source": [
    "These data are exports from R, see `Objects_preparations.Rmd`"
   ]
  },
  {
   "cell_type": "code",
   "execution_count": 3,
   "id": "f0d379ac-b2e2-46f5-97d6-cf79bbb0d59a",
   "metadata": {},
   "outputs": [],
   "source": [
    "adata_subset = ad.AnnData(X = fmm.mmread(\"vascular.mtx\"))\n",
    "cellids = pd.read_csv(\"vascular.cells\", header = None)\n",
    "genes = pd.read_csv(\"vascular.genes\", header = None)"
   ]
  },
  {
   "cell_type": "code",
   "execution_count": 6,
   "id": "5e1f5e07-c57d-468f-9031-9d804e37b3b0",
   "metadata": {},
   "outputs": [
    {
     "data": {
      "text/html": [
       "<div>\n",
       "<style scoped>\n",
       "    .dataframe tbody tr th:only-of-type {\n",
       "        vertical-align: middle;\n",
       "    }\n",
       "\n",
       "    .dataframe tbody tr th {\n",
       "        vertical-align: top;\n",
       "    }\n",
       "\n",
       "    .dataframe thead th {\n",
       "        text-align: right;\n",
       "    }\n",
       "</style>\n",
       "<table border=\"1\" class=\"dataframe\">\n",
       "  <thead>\n",
       "    <tr style=\"text-align: right;\">\n",
       "      <th></th>\n",
       "      <th>0</th>\n",
       "      <th>1</th>\n",
       "    </tr>\n",
       "    <tr>\n",
       "      <th>cells</th>\n",
       "      <th></th>\n",
       "      <th></th>\n",
       "    </tr>\n",
       "  </thead>\n",
       "  <tbody>\n",
       "    <tr>\n",
       "      <th>Donor_02!!9984!!TCATTACAGTTAGAAC-1</th>\n",
       "      <td>arEC</td>\n",
       "      <td>Donor_02!!9984!!TCATTACAGTTAGAAC-1</td>\n",
       "    </tr>\n",
       "    <tr>\n",
       "      <th>Donor_05!!9972!!TCTTCCTAGCTCCCTT-1</th>\n",
       "      <td>arEC</td>\n",
       "      <td>Donor_05!!9972!!TCTTCCTAGCTCCCTT-1</td>\n",
       "    </tr>\n",
       "    <tr>\n",
       "      <th>Donor_02!!9984!!CCTCAGTCATGATAGA-1</th>\n",
       "      <td>arEC</td>\n",
       "      <td>Donor_02!!9984!!CCTCAGTCATGATAGA-1</td>\n",
       "    </tr>\n",
       "    <tr>\n",
       "      <th>Donor_02!!9985!!AAAGTGACACCTATCC-1</th>\n",
       "      <td>arEC</td>\n",
       "      <td>Donor_02!!9985!!AAAGTGACACCTATCC-1</td>\n",
       "    </tr>\n",
       "    <tr>\n",
       "      <th>Donor_02!!9985!!CATACAGCACGACGTC-1</th>\n",
       "      <td>arEC</td>\n",
       "      <td>Donor_02!!9985!!CATACAGCACGACGTC-1</td>\n",
       "    </tr>\n",
       "    <tr>\n",
       "      <th>...</th>\n",
       "      <td>...</td>\n",
       "      <td>...</td>\n",
       "    </tr>\n",
       "    <tr>\n",
       "      <th>Donor_88!!C750!!CATGAGTTCGCGTGCA-1</th>\n",
       "      <td>Pericytes</td>\n",
       "      <td>Donor_88!!C750!!CATGAGTTCGCGTGCA-1</td>\n",
       "    </tr>\n",
       "    <tr>\n",
       "      <th>Donor_88!!C750!!GGGTCACCACTGTCGG-1</th>\n",
       "      <td>Pericytes</td>\n",
       "      <td>Donor_88!!C750!!GGGTCACCACTGTCGG-1</td>\n",
       "    </tr>\n",
       "    <tr>\n",
       "      <th>Donor_88!!C751!!GCACATAGTGGTAATA-1</th>\n",
       "      <td>arEC</td>\n",
       "      <td>Donor_88!!C751!!GCACATAGTGGTAATA-1</td>\n",
       "    </tr>\n",
       "    <tr>\n",
       "      <th>Donor_88!!C751!!TCTCACGTCGAGATGG-1</th>\n",
       "      <td>arEC</td>\n",
       "      <td>Donor_88!!C751!!TCTCACGTCGAGATGG-1</td>\n",
       "    </tr>\n",
       "    <tr>\n",
       "      <th>Donor_88!!C751!!TGGCGTGTCGAAGGAC-1</th>\n",
       "      <td>SMCs</td>\n",
       "      <td>Donor_88!!C751!!TGGCGTGTCGAAGGAC-1</td>\n",
       "    </tr>\n",
       "  </tbody>\n",
       "</table>\n",
       "<p>39336 rows × 2 columns</p>\n",
       "</div>"
      ],
      "text/plain": [
       "                                            0  \\\n",
       "cells                                           \n",
       "Donor_02!!9984!!TCATTACAGTTAGAAC-1       arEC   \n",
       "Donor_05!!9972!!TCTTCCTAGCTCCCTT-1       arEC   \n",
       "Donor_02!!9984!!CCTCAGTCATGATAGA-1       arEC   \n",
       "Donor_02!!9985!!AAAGTGACACCTATCC-1       arEC   \n",
       "Donor_02!!9985!!CATACAGCACGACGTC-1       arEC   \n",
       "...                                       ...   \n",
       "Donor_88!!C750!!CATGAGTTCGCGTGCA-1  Pericytes   \n",
       "Donor_88!!C750!!GGGTCACCACTGTCGG-1  Pericytes   \n",
       "Donor_88!!C751!!GCACATAGTGGTAATA-1       arEC   \n",
       "Donor_88!!C751!!TCTCACGTCGAGATGG-1       arEC   \n",
       "Donor_88!!C751!!TGGCGTGTCGAAGGAC-1       SMCs   \n",
       "\n",
       "                                                                     1  \n",
       "cells                                                                   \n",
       "Donor_02!!9984!!TCATTACAGTTAGAAC-1  Donor_02!!9984!!TCATTACAGTTAGAAC-1  \n",
       "Donor_05!!9972!!TCTTCCTAGCTCCCTT-1  Donor_05!!9972!!TCTTCCTAGCTCCCTT-1  \n",
       "Donor_02!!9984!!CCTCAGTCATGATAGA-1  Donor_02!!9984!!CCTCAGTCATGATAGA-1  \n",
       "Donor_02!!9985!!AAAGTGACACCTATCC-1  Donor_02!!9985!!AAAGTGACACCTATCC-1  \n",
       "Donor_02!!9985!!CATACAGCACGACGTC-1  Donor_02!!9985!!CATACAGCACGACGTC-1  \n",
       "...                                                                ...  \n",
       "Donor_88!!C750!!CATGAGTTCGCGTGCA-1  Donor_88!!C750!!CATGAGTTCGCGTGCA-1  \n",
       "Donor_88!!C750!!GGGTCACCACTGTCGG-1  Donor_88!!C750!!GGGTCACCACTGTCGG-1  \n",
       "Donor_88!!C751!!GCACATAGTGGTAATA-1  Donor_88!!C751!!GCACATAGTGGTAATA-1  \n",
       "Donor_88!!C751!!TCTCACGTCGAGATGG-1  Donor_88!!C751!!TCTCACGTCGAGATGG-1  \n",
       "Donor_88!!C751!!TGGCGTGTCGAAGGAC-1  Donor_88!!C751!!TGGCGTGTCGAAGGAC-1  \n",
       "\n",
       "[39336 rows x 2 columns]"
      ]
     },
     "execution_count": 6,
     "metadata": {},
     "output_type": "execute_result"
    }
   ],
   "source": [
    "anno = pd.read_csv(\"vascular.annotation\", header = None)\n",
    "anno.index = anno[1]\n",
    "anno.index.name = \"cells\"\n",
    "anno"
   ]
  },
  {
   "cell_type": "code",
   "execution_count": 7,
   "id": "7f634404-4670-4a97-b8c5-783298b70fb9",
   "metadata": {},
   "outputs": [],
   "source": [
    "adata_subset.obs.index = cellids[0]\n",
    "adata_subset.var.index = genes[0]\n",
    "adata_subset.obs[\"annotation\"] = anno[1]\n",
    "adata_subset.obs.index.name = \"cells\"\n",
    "adata_subset.var.index.name = \"genes\""
   ]
  },
  {
   "cell_type": "code",
   "execution_count": 9,
   "id": "b8e5cb4e-55cc-4479-b949-18dca5d911fa",
   "metadata": {},
   "outputs": [
    {
     "data": {
      "text/html": [
       "<div>\n",
       "<style scoped>\n",
       "    .dataframe tbody tr th:only-of-type {\n",
       "        vertical-align: middle;\n",
       "    }\n",
       "\n",
       "    .dataframe tbody tr th {\n",
       "        vertical-align: top;\n",
       "    }\n",
       "\n",
       "    .dataframe thead th {\n",
       "        text-align: right;\n",
       "    }\n",
       "</style>\n",
       "<table border=\"1\" class=\"dataframe\">\n",
       "  <thead>\n",
       "    <tr style=\"text-align: right;\">\n",
       "      <th></th>\n",
       "      <th>0</th>\n",
       "      <th>1</th>\n",
       "    </tr>\n",
       "    <tr>\n",
       "      <th>cells</th>\n",
       "      <th></th>\n",
       "      <th></th>\n",
       "    </tr>\n",
       "  </thead>\n",
       "  <tbody>\n",
       "    <tr>\n",
       "      <th>Donor_02!!9984!!TCATTACAGTTAGAAC-1</th>\n",
       "      <td>14.043085</td>\n",
       "      <td>-50.135545</td>\n",
       "    </tr>\n",
       "    <tr>\n",
       "      <th>Donor_05!!9972!!TCTTCCTAGCTCCCTT-1</th>\n",
       "      <td>-73.528391</td>\n",
       "      <td>-6.459791</td>\n",
       "    </tr>\n",
       "    <tr>\n",
       "      <th>Donor_02!!9984!!CCTCAGTCATGATAGA-1</th>\n",
       "      <td>9.088842</td>\n",
       "      <td>-48.238909</td>\n",
       "    </tr>\n",
       "    <tr>\n",
       "      <th>Donor_02!!9985!!AAAGTGACACCTATCC-1</th>\n",
       "      <td>-38.991121</td>\n",
       "      <td>-18.001077</td>\n",
       "    </tr>\n",
       "    <tr>\n",
       "      <th>Donor_02!!9985!!CATACAGCACGACGTC-1</th>\n",
       "      <td>50.805575</td>\n",
       "      <td>11.390331</td>\n",
       "    </tr>\n",
       "    <tr>\n",
       "      <th>...</th>\n",
       "      <td>...</td>\n",
       "      <td>...</td>\n",
       "    </tr>\n",
       "    <tr>\n",
       "      <th>Donor_88!!C750!!CATGAGTTCGCGTGCA-1</th>\n",
       "      <td>-5.171450</td>\n",
       "      <td>48.436449</td>\n",
       "    </tr>\n",
       "    <tr>\n",
       "      <th>Donor_88!!C750!!GGGTCACCACTGTCGG-1</th>\n",
       "      <td>23.772841</td>\n",
       "      <td>-2.359125</td>\n",
       "    </tr>\n",
       "    <tr>\n",
       "      <th>Donor_88!!C751!!GCACATAGTGGTAATA-1</th>\n",
       "      <td>-33.482225</td>\n",
       "      <td>21.748196</td>\n",
       "    </tr>\n",
       "    <tr>\n",
       "      <th>Donor_88!!C751!!TCTCACGTCGAGATGG-1</th>\n",
       "      <td>-16.633397</td>\n",
       "      <td>58.737318</td>\n",
       "    </tr>\n",
       "    <tr>\n",
       "      <th>Donor_88!!C751!!TGGCGTGTCGAAGGAC-1</th>\n",
       "      <td>42.625864</td>\n",
       "      <td>14.422124</td>\n",
       "    </tr>\n",
       "  </tbody>\n",
       "</table>\n",
       "<p>39336 rows × 2 columns</p>\n",
       "</div>"
      ],
      "text/plain": [
       "                                            0          1\n",
       "cells                                                   \n",
       "Donor_02!!9984!!TCATTACAGTTAGAAC-1  14.043085 -50.135545\n",
       "Donor_05!!9972!!TCTTCCTAGCTCCCTT-1 -73.528391  -6.459791\n",
       "Donor_02!!9984!!CCTCAGTCATGATAGA-1   9.088842 -48.238909\n",
       "Donor_02!!9985!!AAAGTGACACCTATCC-1 -38.991121 -18.001077\n",
       "Donor_02!!9985!!CATACAGCACGACGTC-1  50.805575  11.390331\n",
       "...                                       ...        ...\n",
       "Donor_88!!C750!!CATGAGTTCGCGTGCA-1  -5.171450  48.436449\n",
       "Donor_88!!C750!!GGGTCACCACTGTCGG-1  23.772841  -2.359125\n",
       "Donor_88!!C751!!GCACATAGTGGTAATA-1 -33.482225  21.748196\n",
       "Donor_88!!C751!!TCTCACGTCGAGATGG-1 -16.633397  58.737318\n",
       "Donor_88!!C751!!TGGCGTGTCGAAGGAC-1  42.625864  14.422124\n",
       "\n",
       "[39336 rows x 2 columns]"
      ]
     },
     "execution_count": 9,
     "metadata": {},
     "output_type": "execute_result"
    }
   ],
   "source": [
    "emb = pd.read_csv(\"vascular.embedding\", header = None)\n",
    "emb.index = anno[1]\n",
    "emb.index.name = \"cells\"\n",
    "emb"
   ]
  },
  {
   "cell_type": "code",
   "execution_count": 10,
   "id": "f2ad39bb-c1b3-4243-9aad-efc32433df63",
   "metadata": {},
   "outputs": [],
   "source": [
    "adata_subset.obsm[\"X_umap\"] = emb.to_numpy()"
   ]
  },
  {
   "cell_type": "code",
   "execution_count": 11,
   "id": "32672502-82f5-49b8-8b97-64cb972dccd8",
   "metadata": {},
   "outputs": [],
   "source": [
    "adata_subset.X = adata_subset.X.tocsr()"
   ]
  },
  {
   "cell_type": "markdown",
   "id": "79bd81c8-46cf-42ed-a00c-ff414d8bdbd7",
   "metadata": {},
   "source": [
    "### Merge with loom"
   ]
  },
  {
   "cell_type": "markdown",
   "id": "f28cba4e-f5da-4629-b762-ce82afc21366",
   "metadata": {},
   "source": [
    "Adjust cells and genes"
   ]
  },
  {
   "cell_type": "code",
   "execution_count": 12,
   "id": "0f7ded26-5408-4078-ba9f-8ad4bef2d26f",
   "metadata": {},
   "outputs": [],
   "source": [
    "new_idx = []\n",
    "for string in adata_subset.obs.index:\n",
    "    new_idx.append(string.split(sep = \"!!\", maxsplit = 1)[1])\n",
    "\n",
    "adata_subset.obs.index = new_idx"
   ]
  },
  {
   "cell_type": "code",
   "execution_count": 13,
   "id": "80b4d4e7-11a1-402c-9fec-ac740c752784",
   "metadata": {},
   "outputs": [],
   "source": [
    "cell_list = list(set(adata.obs.index.to_list()) & set(adata_subset.obs.index.to_list()))\n",
    "gene_list = list(set(adata.var.index.to_list()) & set(adata_subset.var.index.to_list()))\n",
    "adata2 = adata[cell_list, gene_list]\n",
    "adata_subset2 = adata_subset[cell_list, gene_list]"
   ]
  },
  {
   "cell_type": "code",
   "execution_count": 14,
   "id": "59144d34-26ea-497f-8250-0e64c484c1a6",
   "metadata": {},
   "outputs": [
    {
     "data": {
      "text/plain": [
       "View of AnnData object with n_obs × n_vars = 26887 × 36389\n",
       "    var: 'Accession', 'Chromosome', 'End', 'Start', 'Strand'\n",
       "    layers: 'ambiguous', 'matrix', 'spliced', 'unspliced'"
      ]
     },
     "execution_count": 14,
     "metadata": {},
     "output_type": "execute_result"
    }
   ],
   "source": [
    "adata2"
   ]
  },
  {
   "cell_type": "code",
   "execution_count": 15,
   "id": "f942b18b-3ee2-4e57-8483-13deaceedb3e",
   "metadata": {},
   "outputs": [
    {
     "data": {
      "text/plain": [
       "View of AnnData object with n_obs × n_vars = 26887 × 36389\n",
       "    obs: 'annotation'\n",
       "    obsm: 'X_umap'"
      ]
     },
     "execution_count": 15,
     "metadata": {},
     "output_type": "execute_result"
    }
   ],
   "source": [
    "adata_subset2"
   ]
  },
  {
   "cell_type": "code",
   "execution_count": 16,
   "id": "30db9635-b509-4f03-b2cf-3ff85a087a44",
   "metadata": {},
   "outputs": [],
   "source": [
    "adata_velo = scv.utils.merge(adata_subset2, adata2)"
   ]
  },
  {
   "cell_type": "code",
   "execution_count": 17,
   "id": "dda672c7-0b87-4937-9e67-7c2a3cf33084",
   "metadata": {
    "scrolled": true
   },
   "outputs": [
    {
     "data": {
      "text/plain": [
       "AnnData object with n_obs × n_vars = 26887 × 36389\n",
       "    obs: 'annotation', 'initial_size_unspliced', 'initial_size_spliced', 'initial_size'\n",
       "    var: 'Accession', 'Chromosome', 'End', 'Start', 'Strand'\n",
       "    obsm: 'X_umap'\n",
       "    layers: 'ambiguous', 'matrix', 'spliced', 'unspliced'"
      ]
     },
     "execution_count": 17,
     "metadata": {},
     "output_type": "execute_result"
    }
   ],
   "source": [
    "adata_velo"
   ]
  },
  {
   "cell_type": "code",
   "execution_count": null,
   "id": "78fdf7a9-2502-404c-a7a5-040c7ac1ef07",
   "metadata": {},
   "outputs": [],
   "source": [
    "adata_velo.write_h5ad(\"vascular.h5ad\")"
   ]
  },
  {
   "cell_type": "markdown",
   "id": "3ffc43c3-fe9a-4d5c-955a-292be37c0ff0",
   "metadata": {},
   "source": [
    "## Adipocytes, ASPCs, macrophages"
   ]
  },
  {
   "cell_type": "markdown",
   "id": "706e807a-134f-44ea-b8f3-bfaaa48c1ac8",
   "metadata": {},
   "source": [
    "These data are exports from R, see `Objects_preparations.Rmd`"
   ]
  },
  {
   "cell_type": "code",
   "execution_count": 3,
   "id": "89a086ec-4ff2-4178-9f85-f9f146b37207",
   "metadata": {},
   "outputs": [],
   "source": [
    "adata_subset = ad.AnnData(X = fmm.mmread(\"aspc_adi_macro.mtx\"))\n",
    "cellids = pd.read_csv(\"aspc_adi_macro.cells\", header = None)\n",
    "genes = pd.read_csv(\"aspc_adi_macro.genes\", header = None)"
   ]
  },
  {
   "cell_type": "code",
   "execution_count": 18,
   "id": "e69c6c74-6f0d-48e4-b766-bf48b3a0c463",
   "metadata": {},
   "outputs": [
    {
     "data": {
      "text/html": [
       "<div>\n",
       "<style scoped>\n",
       "    .dataframe tbody tr th:only-of-type {\n",
       "        vertical-align: middle;\n",
       "    }\n",
       "\n",
       "    .dataframe tbody tr th {\n",
       "        vertical-align: top;\n",
       "    }\n",
       "\n",
       "    .dataframe thead th {\n",
       "        text-align: right;\n",
       "    }\n",
       "</style>\n",
       "<table border=\"1\" class=\"dataframe\">\n",
       "  <thead>\n",
       "    <tr style=\"text-align: right;\">\n",
       "      <th></th>\n",
       "      <th>0</th>\n",
       "      <th>1</th>\n",
       "    </tr>\n",
       "    <tr>\n",
       "      <th>cells</th>\n",
       "      <th></th>\n",
       "      <th></th>\n",
       "    </tr>\n",
       "  </thead>\n",
       "  <tbody>\n",
       "    <tr>\n",
       "      <th>Donor_02!!9984!!AATTTCCTCGTTCTAT-1</th>\n",
       "      <td>Donor_02!!9984!!AATTTCCTCGTTCTAT-1</td>\n",
       "      <td>Adipocytes</td>\n",
       "    </tr>\n",
       "    <tr>\n",
       "      <th>Donor_02!!9984!!TCGACCTCAGTATTCG-1</th>\n",
       "      <td>Donor_02!!9984!!TCGACCTCAGTATTCG-1</td>\n",
       "      <td>Adipocytes</td>\n",
       "    </tr>\n",
       "    <tr>\n",
       "      <th>Donor_02!!9984!!TTATTGCGTTCTCCAC-1</th>\n",
       "      <td>Donor_02!!9984!!TTATTGCGTTCTCCAC-1</td>\n",
       "      <td>Adipocytes</td>\n",
       "    </tr>\n",
       "    <tr>\n",
       "      <th>Donor_02!!9984!!AACAACCCATTCTGTT-1</th>\n",
       "      <td>Donor_02!!9984!!AACAACCCATTCTGTT-1</td>\n",
       "      <td>LAM</td>\n",
       "    </tr>\n",
       "    <tr>\n",
       "      <th>Donor_02!!9984!!AGATAGAGTTGCATGT-1</th>\n",
       "      <td>Donor_02!!9984!!AGATAGAGTTGCATGT-1</td>\n",
       "      <td>Adipocytes</td>\n",
       "    </tr>\n",
       "    <tr>\n",
       "      <th>...</th>\n",
       "      <td>...</td>\n",
       "      <td>...</td>\n",
       "    </tr>\n",
       "    <tr>\n",
       "      <th>Donor_88!!C751!!CGCGTGAGTCTAGGCC-1</th>\n",
       "      <td>Donor_88!!C751!!CGCGTGAGTCTAGGCC-1</td>\n",
       "      <td>Adipocytes</td>\n",
       "    </tr>\n",
       "    <tr>\n",
       "      <th>Donor_88!!C751!!CATCCCACAAATGAAC-1</th>\n",
       "      <td>Donor_88!!C751!!CATCCCACAAATGAAC-1</td>\n",
       "      <td>ATM</td>\n",
       "    </tr>\n",
       "    <tr>\n",
       "      <th>Donor_88!!C751!!AACGGGACATTGCAAC-1</th>\n",
       "      <td>Donor_88!!C751!!AACGGGACATTGCAAC-1</td>\n",
       "      <td>ASPC_DPP4</td>\n",
       "    </tr>\n",
       "    <tr>\n",
       "      <th>Donor_88!!C751!!GAGTTACGTAACTGCT-1</th>\n",
       "      <td>Donor_88!!C751!!GAGTTACGTAACTGCT-1</td>\n",
       "      <td>ASPC_PPARG</td>\n",
       "    </tr>\n",
       "    <tr>\n",
       "      <th>Donor_88!!C751!!CCTATCGGTGAGTTGG-1</th>\n",
       "      <td>Donor_88!!C751!!CCTATCGGTGAGTTGG-1</td>\n",
       "      <td>ASPC_EPHA3</td>\n",
       "    </tr>\n",
       "  </tbody>\n",
       "</table>\n",
       "<p>85128 rows × 2 columns</p>\n",
       "</div>"
      ],
      "text/plain": [
       "                                                                     0  \\\n",
       "cells                                                                    \n",
       "Donor_02!!9984!!AATTTCCTCGTTCTAT-1  Donor_02!!9984!!AATTTCCTCGTTCTAT-1   \n",
       "Donor_02!!9984!!TCGACCTCAGTATTCG-1  Donor_02!!9984!!TCGACCTCAGTATTCG-1   \n",
       "Donor_02!!9984!!TTATTGCGTTCTCCAC-1  Donor_02!!9984!!TTATTGCGTTCTCCAC-1   \n",
       "Donor_02!!9984!!AACAACCCATTCTGTT-1  Donor_02!!9984!!AACAACCCATTCTGTT-1   \n",
       "Donor_02!!9984!!AGATAGAGTTGCATGT-1  Donor_02!!9984!!AGATAGAGTTGCATGT-1   \n",
       "...                                                                ...   \n",
       "Donor_88!!C751!!CGCGTGAGTCTAGGCC-1  Donor_88!!C751!!CGCGTGAGTCTAGGCC-1   \n",
       "Donor_88!!C751!!CATCCCACAAATGAAC-1  Donor_88!!C751!!CATCCCACAAATGAAC-1   \n",
       "Donor_88!!C751!!AACGGGACATTGCAAC-1  Donor_88!!C751!!AACGGGACATTGCAAC-1   \n",
       "Donor_88!!C751!!GAGTTACGTAACTGCT-1  Donor_88!!C751!!GAGTTACGTAACTGCT-1   \n",
       "Donor_88!!C751!!CCTATCGGTGAGTTGG-1  Donor_88!!C751!!CCTATCGGTGAGTTGG-1   \n",
       "\n",
       "                                             1  \n",
       "cells                                           \n",
       "Donor_02!!9984!!AATTTCCTCGTTCTAT-1  Adipocytes  \n",
       "Donor_02!!9984!!TCGACCTCAGTATTCG-1  Adipocytes  \n",
       "Donor_02!!9984!!TTATTGCGTTCTCCAC-1  Adipocytes  \n",
       "Donor_02!!9984!!AACAACCCATTCTGTT-1         LAM  \n",
       "Donor_02!!9984!!AGATAGAGTTGCATGT-1  Adipocytes  \n",
       "...                                        ...  \n",
       "Donor_88!!C751!!CGCGTGAGTCTAGGCC-1  Adipocytes  \n",
       "Donor_88!!C751!!CATCCCACAAATGAAC-1         ATM  \n",
       "Donor_88!!C751!!AACGGGACATTGCAAC-1   ASPC_DPP4  \n",
       "Donor_88!!C751!!GAGTTACGTAACTGCT-1  ASPC_PPARG  \n",
       "Donor_88!!C751!!CCTATCGGTGAGTTGG-1  ASPC_EPHA3  \n",
       "\n",
       "[85128 rows x 2 columns]"
      ]
     },
     "execution_count": 18,
     "metadata": {},
     "output_type": "execute_result"
    }
   ],
   "source": [
    "anno = pd.read_csv(\"aspc_adi_macro.annotation\", header = None)\n",
    "anno.index = anno[0]\n",
    "anno.index.name = \"cells\"\n",
    "anno"
   ]
  },
  {
   "cell_type": "code",
   "execution_count": 5,
   "id": "538077e8-855e-4ce6-bac6-c5325588ce4e",
   "metadata": {},
   "outputs": [],
   "source": [
    "adata_subset.obs.index = cellids[0]\n",
    "adata_subset.var.index = genes[0]\n",
    "adata_subset.obs[\"annotation\"] = anno[1]\n",
    "adata_subset.obs.index.name = \"cells\"\n",
    "adata_subset.var.index.name = \"genes\""
   ]
  },
  {
   "cell_type": "code",
   "execution_count": 6,
   "id": "178fa9ee-b93e-4adb-8ad3-57f4a9897165",
   "metadata": {},
   "outputs": [
    {
     "data": {
      "text/html": [
       "<div>\n",
       "<style scoped>\n",
       "    .dataframe tbody tr th:only-of-type {\n",
       "        vertical-align: middle;\n",
       "    }\n",
       "\n",
       "    .dataframe tbody tr th {\n",
       "        vertical-align: top;\n",
       "    }\n",
       "\n",
       "    .dataframe thead th {\n",
       "        text-align: right;\n",
       "    }\n",
       "</style>\n",
       "<table border=\"1\" class=\"dataframe\">\n",
       "  <thead>\n",
       "    <tr style=\"text-align: right;\">\n",
       "      <th></th>\n",
       "      <th>0</th>\n",
       "      <th>1</th>\n",
       "    </tr>\n",
       "    <tr>\n",
       "      <th>cells</th>\n",
       "      <th></th>\n",
       "      <th></th>\n",
       "    </tr>\n",
       "  </thead>\n",
       "  <tbody>\n",
       "    <tr>\n",
       "      <th>Donor_02!!9984!!AATTTCCTCGTTCTAT-1</th>\n",
       "      <td>0.000003</td>\n",
       "      <td>-2.045266</td>\n",
       "    </tr>\n",
       "    <tr>\n",
       "      <th>Donor_02!!9984!!TCGACCTCAGTATTCG-1</th>\n",
       "      <td>-0.057343</td>\n",
       "      <td>-1.398973</td>\n",
       "    </tr>\n",
       "    <tr>\n",
       "      <th>Donor_02!!9984!!TTATTGCGTTCTCCAC-1</th>\n",
       "      <td>-0.695034</td>\n",
       "      <td>-0.945508</td>\n",
       "    </tr>\n",
       "    <tr>\n",
       "      <th>Donor_02!!9984!!AACAACCCATTCTGTT-1</th>\n",
       "      <td>1.227550</td>\n",
       "      <td>-7.358194</td>\n",
       "    </tr>\n",
       "    <tr>\n",
       "      <th>Donor_02!!9984!!AGATAGAGTTGCATGT-1</th>\n",
       "      <td>0.723089</td>\n",
       "      <td>-1.886719</td>\n",
       "    </tr>\n",
       "    <tr>\n",
       "      <th>...</th>\n",
       "      <td>...</td>\n",
       "      <td>...</td>\n",
       "    </tr>\n",
       "    <tr>\n",
       "      <th>Donor_88!!C751!!CGCGTGAGTCTAGGCC-1</th>\n",
       "      <td>-1.313268</td>\n",
       "      <td>-1.416494</td>\n",
       "    </tr>\n",
       "    <tr>\n",
       "      <th>Donor_88!!C751!!CATCCCACAAATGAAC-1</th>\n",
       "      <td>4.817921</td>\n",
       "      <td>-4.887340</td>\n",
       "    </tr>\n",
       "    <tr>\n",
       "      <th>Donor_88!!C751!!AACGGGACATTGCAAC-1</th>\n",
       "      <td>-2.392691</td>\n",
       "      <td>3.082013</td>\n",
       "    </tr>\n",
       "    <tr>\n",
       "      <th>Donor_88!!C751!!GAGTTACGTAACTGCT-1</th>\n",
       "      <td>-4.956746</td>\n",
       "      <td>5.067651</td>\n",
       "    </tr>\n",
       "    <tr>\n",
       "      <th>Donor_88!!C751!!CCTATCGGTGAGTTGG-1</th>\n",
       "      <td>-3.049815</td>\n",
       "      <td>5.286844</td>\n",
       "    </tr>\n",
       "  </tbody>\n",
       "</table>\n",
       "<p>85128 rows × 2 columns</p>\n",
       "</div>"
      ],
      "text/plain": [
       "                                           0         1\n",
       "cells                                                 \n",
       "Donor_02!!9984!!AATTTCCTCGTTCTAT-1  0.000003 -2.045266\n",
       "Donor_02!!9984!!TCGACCTCAGTATTCG-1 -0.057343 -1.398973\n",
       "Donor_02!!9984!!TTATTGCGTTCTCCAC-1 -0.695034 -0.945508\n",
       "Donor_02!!9984!!AACAACCCATTCTGTT-1  1.227550 -7.358194\n",
       "Donor_02!!9984!!AGATAGAGTTGCATGT-1  0.723089 -1.886719\n",
       "...                                      ...       ...\n",
       "Donor_88!!C751!!CGCGTGAGTCTAGGCC-1 -1.313268 -1.416494\n",
       "Donor_88!!C751!!CATCCCACAAATGAAC-1  4.817921 -4.887340\n",
       "Donor_88!!C751!!AACGGGACATTGCAAC-1 -2.392691  3.082013\n",
       "Donor_88!!C751!!GAGTTACGTAACTGCT-1 -4.956746  5.067651\n",
       "Donor_88!!C751!!CCTATCGGTGAGTTGG-1 -3.049815  5.286844\n",
       "\n",
       "[85128 rows x 2 columns]"
      ]
     },
     "execution_count": 6,
     "metadata": {},
     "output_type": "execute_result"
    }
   ],
   "source": [
    "emb = pd.read_csv(\"aspc_adi_macro.embedding\", header = None)\n",
    "emb.index = anno[0]\n",
    "emb.index.name = \"cells\"\n",
    "emb"
   ]
  },
  {
   "cell_type": "code",
   "execution_count": 7,
   "id": "bd51e47b-d090-47a6-add8-65f4ece7634d",
   "metadata": {},
   "outputs": [],
   "source": [
    "adata_subset.obsm[\"X_umap\"] = emb.to_numpy()"
   ]
  },
  {
   "cell_type": "code",
   "execution_count": 8,
   "id": "f8684007-b70b-4c66-ae25-8851521190f0",
   "metadata": {},
   "outputs": [],
   "source": [
    "adata_subset.X = adata_subset.X.tocsr()"
   ]
  },
  {
   "cell_type": "markdown",
   "id": "e939260b-4832-40ee-b577-432b22065bbd",
   "metadata": {},
   "source": [
    "### Merge with loom"
   ]
  },
  {
   "cell_type": "markdown",
   "id": "dbbceda9-90b9-43c9-a51d-07555b4fe880",
   "metadata": {},
   "source": [
    "Adjust cells and genes"
   ]
  },
  {
   "cell_type": "code",
   "execution_count": 9,
   "id": "c0006da4-00d9-4991-92ae-4cce0b330731",
   "metadata": {},
   "outputs": [],
   "source": [
    "new_idx = []\n",
    "for string in adata_subset.obs.index:\n",
    "    new_idx.append(string.split(sep = \"!!\", maxsplit = 1)[1])\n",
    "\n",
    "adata_subset.obs.index = new_idx"
   ]
  },
  {
   "cell_type": "code",
   "execution_count": 10,
   "id": "997d0a00-24ae-4023-87ba-209194cdc6ef",
   "metadata": {},
   "outputs": [],
   "source": [
    "cell_list = list(set(adata.obs.index.to_list()) & set(adata_subset.obs.index.to_list()))\n",
    "gene_list = list(set(adata.var.index.to_list()) & set(adata_subset.var.index.to_list()))\n",
    "adata2 = adata[cell_list, gene_list]\n",
    "adata_subset2 = adata_subset[cell_list, gene_list]"
   ]
  },
  {
   "cell_type": "code",
   "execution_count": 11,
   "id": "1e945ca9-d106-4736-b347-e172680ec6fa",
   "metadata": {},
   "outputs": [
    {
     "data": {
      "text/plain": [
       "View of AnnData object with n_obs × n_vars = 85121 × 36389\n",
       "    var: 'Accession', 'Chromosome', 'End', 'Start', 'Strand'\n",
       "    layers: 'ambiguous', 'matrix', 'spliced', 'unspliced'"
      ]
     },
     "execution_count": 11,
     "metadata": {},
     "output_type": "execute_result"
    }
   ],
   "source": [
    "adata2"
   ]
  },
  {
   "cell_type": "code",
   "execution_count": 12,
   "id": "04074d4e-f9c5-4582-880b-50310e5c0de6",
   "metadata": {},
   "outputs": [
    {
     "data": {
      "text/plain": [
       "View of AnnData object with n_obs × n_vars = 85121 × 36389\n",
       "    obs: 'annotation'\n",
       "    obsm: 'X_umap'"
      ]
     },
     "execution_count": 12,
     "metadata": {},
     "output_type": "execute_result"
    }
   ],
   "source": [
    "adata_subset2"
   ]
  },
  {
   "cell_type": "code",
   "execution_count": 13,
   "id": "4d4e6a7d-c8ac-4401-9676-2c385392acb2",
   "metadata": {},
   "outputs": [],
   "source": [
    "adata_velo = scv.utils.merge(adata_subset2, adata2)"
   ]
  },
  {
   "cell_type": "code",
   "execution_count": 14,
   "id": "9076547c-82fe-437f-9831-b36a004bb0b8",
   "metadata": {
    "scrolled": true
   },
   "outputs": [
    {
     "data": {
      "text/plain": [
       "AnnData object with n_obs × n_vars = 85121 × 36389\n",
       "    obs: 'annotation', 'initial_size_unspliced', 'initial_size_spliced', 'initial_size'\n",
       "    var: 'Accession', 'Chromosome', 'End', 'Start', 'Strand'\n",
       "    obsm: 'X_umap'\n",
       "    layers: 'ambiguous', 'matrix', 'spliced', 'unspliced'"
      ]
     },
     "execution_count": 14,
     "metadata": {},
     "output_type": "execute_result"
    }
   ],
   "source": [
    "adata_velo"
   ]
  },
  {
   "cell_type": "code",
   "execution_count": 15,
   "id": "459e7d48-734d-44fd-a037-e7620cea8df8",
   "metadata": {},
   "outputs": [],
   "source": [
    "adata_velo.write_h5ad(\"aspc_adi_macro.h5ad\")"
   ]
  }
 ],
 "metadata": {
  "kernelspec": {
   "display_name": "scvelo",
   "language": "python",
   "name": "scvelo"
  },
  "language_info": {
   "codemirror_mode": {
    "name": "ipython",
    "version": 3
   },
   "file_extension": ".py",
   "mimetype": "text/x-python",
   "name": "python",
   "nbconvert_exporter": "python",
   "pygments_lexer": "ipython3",
   "version": "3.7.0"
  }
 },
 "nbformat": 4,
 "nbformat_minor": 5
}

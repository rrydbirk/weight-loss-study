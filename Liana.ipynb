{
 "cells": [
  {
   "cell_type": "markdown",
   "metadata": {},
   "source": [
    "# Installation\n",
    "\n",
    "conda create -n liana -y python=3.8 ipykernel # liana requires ipykernel\n",
    "\n",
    "conda activate liana\n",
    "\n",
    "conda install -c anaconda pytables\n",
    "\n",
    "pip install torch\n",
    "\n",
    "pip3 install torchvision torchaudio --index-url https://download.pytorch.org/whl/cu118\n",
    "\n",
    "pip install decoupler cell2cell omnipath pyarrow git+https://github.com/saezlab/liana-py # Need dev version"
   ]
  },
  {
   "cell_type": "markdown",
   "metadata": {},
   "source": [
    "# Setup\n",
    "\n",
    "LIANA can run on a normal JupyterLab GPU job.\n",
    "\n",
    "In Python, make sure we have CUDA installed correctly"
   ]
  },
  {
   "cell_type": "code",
   "execution_count": null,
   "metadata": {},
   "outputs": [],
   "source": [
    "# Standard stuff\n",
    "import scanpy as sc\n",
    "import liana as li\n",
    "import cell2cell as c2c\n",
    "import decoupler as dc\n",
    "from collections import defaultdict\n",
    "import omnipath as op\n",
    "import fast_matrix_market as fmm\n",
    "import pandas as pd\n",
    "import anndata as ad\n",
    "import numpy as np\n",
    "from statsmodels.stats.multitest import fdrcorrection\n",
    "\n",
    "# Plotting\n",
    "import seaborn as sns\n",
    "import plotnine as p9\n",
    "import matplotlib.pyplot as plt\n",
    "import gseapy\n",
    "\n",
    "# Import DESeq2\n",
    "from pydeseq2.dds import DeseqDataSet\n",
    "from pydeseq2.ds import DeseqStats\n",
    "\n",
    "# Initiate GPU now as it's needed for even loading the tensor\n",
    "import torch\n",
    "torch.cuda.is_available()\n",
    "import tensorly as tl\n",
    "tl.set_backend(\"pytorch\")\n",
    "\n",
    "# Ignore all FutureWarnings\n",
    "import warnings\n",
    "warnings.simplefilter('ignore', FutureWarning)"
   ]
  },
  {
   "cell_type": "markdown",
   "metadata": {},
   "source": [
    "# Compute results\n",
    "## Load and prepare data"
   ]
  },
  {
   "cell_type": "code",
   "execution_count": 23,
   "metadata": {},
   "outputs": [],
   "source": [
    "dat = fmm.mmread(\"major.mtx\")\n",
    "cellIds = pd.read_csv(\"major.cells\", header = None)\n",
    "genes = pd.read_csv(\"major.genes\", header = None)\n",
    "anno = pd.read_csv(\"major.annotation\", header = None)\n",
    "\n",
    "visit = pd.read_csv(\"all_cells.visits\", header = None)\n",
    "visit.index = visit[1]\n",
    "visit = visit.reindex(index = cellIds[0])\n",
    "\n",
    "donor = cellIds[0].str.split(\"!!\").apply(lambda x: x[0]).str.replace(\"_poolA|_poolB\", \"\")\n",
    "sample = donor.str.cat(list(visit[0]), sep = \"_\")"
   ]
  },
  {
   "cell_type": "code",
   "execution_count": 67,
   "metadata": {},
   "outputs": [
    {
     "name": "stderr",
     "output_type": "stream",
     "text": [
      "/tmp/ipykernel_581/1908473877.py:13: ImplicitModificationWarning: Trying to modify attribute `.obs` of view, initializing view as actual.\n"
     ]
    },
    {
     "data": {
      "text/plain": [
       "AnnData object with n_obs × n_vars = 131463 × 36389\n",
       "    obs: 'visit', 'donor', 'sample', 'anno'"
      ]
     },
     "execution_count": 67,
     "metadata": {},
     "output_type": "execute_result"
    }
   ],
   "source": [
    "adata = ad.AnnData(X = dat.tocsr())\n",
    "adata.obs_names = cellIds[0]\n",
    "adata.var_names = genes[0]\n",
    "adata.obs[\"anno\"] = pd.Categorical(anno[1])\n",
    "adata.obs[\"visit\"] = pd.Categorical(visit[0])\n",
    "adata.obs[\"donor\"] = pd.Categorical(donor)\n",
    "adata.obs[\"sample\"] = pd.Categorical(sample)\n",
    "adata"
   ]
  },
  {
   "cell_type": "code",
   "execution_count": null,
   "metadata": {},
   "outputs": [],
   "source": [
    "adata.obs"
   ]
  },
  {
   "cell_type": "code",
   "execution_count": 5,
   "metadata": {},
   "outputs": [
    {
     "name": "stderr",
     "output_type": "stream",
     "text": [
      "/work/miniconda3/envs/liana/lib/python3.8/site-packages/scanpy/preprocessing/_normalization.py:169: UserWarning: Received a view of an AnnData. Making a copy.\n"
     ]
    }
   ],
   "source": [
    "sc.pp.normalize_total(adata)\n",
    "sc.pp.log1p(adata)"
   ]
  },
  {
   "cell_type": "markdown",
   "metadata": {},
   "source": [
    "## Calculate"
   ]
  },
  {
   "cell_type": "code",
   "execution_count": 6,
   "metadata": {},
   "outputs": [
    {
     "name": "stderr",
     "output_type": "stream",
     "text": [
      "Now running: Donor_02_visit1:   0%|          | 0/42 [00:00<?, ?it/s]/work/miniconda3/envs/liana/lib/python3.8/site-packages/liana/method/_pipe_utils/_pre.py:148: ImplicitModificationWarning: Trying to modify attribute `.obs` of view, initializing view as actual.\n",
      "Now running: Donor_02_visit2:   2%|▏         | 1/42 [00:16<11:09, 16.33s/it]/work/miniconda3/envs/liana/lib/python3.8/site-packages/liana/method/_pipe_utils/_pre.py:148: ImplicitModificationWarning: Trying to modify attribute `.obs` of view, initializing view as actual.\n",
      "Now running: Donor_02_visit3:   5%|▍         | 2/42 [00:34<11:32, 17.32s/it]/work/miniconda3/envs/liana/lib/python3.8/site-packages/liana/method/_pipe_utils/_pre.py:148: ImplicitModificationWarning: Trying to modify attribute `.obs` of view, initializing view as actual.\n",
      "Now running: Donor_05_visit1:   7%|▋         | 3/42 [00:58<13:23, 20.61s/it]/work/miniconda3/envs/liana/lib/python3.8/site-packages/liana/method/_pipe_utils/_pre.py:148: ImplicitModificationWarning: Trying to modify attribute `.obs` of view, initializing view as actual.\n",
      "Now running: Donor_05_visit2:  10%|▉         | 4/42 [01:08<10:17, 16.26s/it]/work/miniconda3/envs/liana/lib/python3.8/site-packages/liana/method/_pipe_utils/_pre.py:148: ImplicitModificationWarning: Trying to modify attribute `.obs` of view, initializing view as actual.\n",
      "Now running: Donor_05_visit3:  12%|█▏        | 5/42 [01:29<11:04, 17.95s/it]/work/miniconda3/envs/liana/lib/python3.8/site-packages/liana/method/_pipe_utils/_pre.py:148: ImplicitModificationWarning: Trying to modify attribute `.obs` of view, initializing view as actual.\n",
      "Now running: Donor_19_visit1:  14%|█▍        | 6/42 [01:51<11:32, 19.24s/it]/work/miniconda3/envs/liana/lib/python3.8/site-packages/liana/method/_pipe_utils/_pre.py:148: ImplicitModificationWarning: Trying to modify attribute `.obs` of view, initializing view as actual.\n",
      "Now running: Donor_19_visit2:  17%|█▋        | 7/42 [02:09<11:05, 19.02s/it]/work/miniconda3/envs/liana/lib/python3.8/site-packages/liana/method/_pipe_utils/_pre.py:148: ImplicitModificationWarning: Trying to modify attribute `.obs` of view, initializing view as actual.\n",
      "Now running: Donor_19_visit3:  19%|█▉        | 8/42 [02:25<10:15, 18.09s/it]/work/miniconda3/envs/liana/lib/python3.8/site-packages/liana/method/_pipe_utils/_pre.py:148: ImplicitModificationWarning: Trying to modify attribute `.obs` of view, initializing view as actual.\n",
      "Now running: Donor_20_visit1:  21%|██▏       | 9/42 [02:50<11:02, 20.08s/it]/work/miniconda3/envs/liana/lib/python3.8/site-packages/liana/method/_pipe_utils/_pre.py:148: ImplicitModificationWarning: Trying to modify attribute `.obs` of view, initializing view as actual.\n",
      "Now running: Donor_20_visit2:  24%|██▍       | 10/42 [03:07<10:17, 19.31s/it]/work/miniconda3/envs/liana/lib/python3.8/site-packages/liana/method/_pipe_utils/_pre.py:148: ImplicitModificationWarning: Trying to modify attribute `.obs` of view, initializing view as actual.\n",
      "Now running: Donor_20_visit3:  26%|██▌       | 11/42 [03:26<09:51, 19.07s/it]/work/miniconda3/envs/liana/lib/python3.8/site-packages/liana/method/_pipe_utils/_pre.py:148: ImplicitModificationWarning: Trying to modify attribute `.obs` of view, initializing view as actual.\n",
      "Now running: Donor_25_visit1:  29%|██▊       | 12/42 [03:54<10:55, 21.85s/it]/work/miniconda3/envs/liana/lib/python3.8/site-packages/liana/method/_pipe_utils/_pre.py:148: ImplicitModificationWarning: Trying to modify attribute `.obs` of view, initializing view as actual.\n",
      "Now running: Donor_25_visit2:  31%|███       | 13/42 [04:24<11:40, 24.15s/it]/work/miniconda3/envs/liana/lib/python3.8/site-packages/liana/method/_pipe_utils/_pre.py:148: ImplicitModificationWarning: Trying to modify attribute `.obs` of view, initializing view as actual.\n",
      "Now running: Donor_25_visit3:  33%|███▎      | 14/42 [04:47<11:14, 24.09s/it]/work/miniconda3/envs/liana/lib/python3.8/site-packages/liana/method/_pipe_utils/_pre.py:148: ImplicitModificationWarning: Trying to modify attribute `.obs` of view, initializing view as actual.\n",
      "Now running: Donor_29_visit1:  36%|███▌      | 15/42 [05:11<10:42, 23.81s/it]/work/miniconda3/envs/liana/lib/python3.8/site-packages/liana/method/_pipe_utils/_pre.py:148: ImplicitModificationWarning: Trying to modify attribute `.obs` of view, initializing view as actual.\n",
      "Now running: Donor_29_visit2:  38%|███▊      | 16/42 [05:32<10:00, 23.09s/it]/work/miniconda3/envs/liana/lib/python3.8/site-packages/liana/method/_pipe_utils/_pre.py:148: ImplicitModificationWarning: Trying to modify attribute `.obs` of view, initializing view as actual.\n",
      "Now running: Donor_29_visit3:  40%|████      | 17/42 [05:50<09:01, 21.66s/it]/work/miniconda3/envs/liana/lib/python3.8/site-packages/liana/method/_pipe_utils/_pre.py:148: ImplicitModificationWarning: Trying to modify attribute `.obs` of view, initializing view as actual.\n",
      "Now running: Donor_32_visit1:  43%|████▎     | 18/42 [06:16<09:08, 22.87s/it]/work/miniconda3/envs/liana/lib/python3.8/site-packages/liana/method/_pipe_utils/_pre.py:148: ImplicitModificationWarning: Trying to modify attribute `.obs` of view, initializing view as actual.\n",
      "Now running: Donor_32_visit2:  45%|████▌     | 19/42 [06:35<08:16, 21.59s/it]/work/miniconda3/envs/liana/lib/python3.8/site-packages/liana/method/_pipe_utils/_pre.py:148: ImplicitModificationWarning: Trying to modify attribute `.obs` of view, initializing view as actual.\n",
      "Now running: Donor_32_visit3:  48%|████▊     | 20/42 [07:06<08:57, 24.45s/it]/work/miniconda3/envs/liana/lib/python3.8/site-packages/liana/method/_pipe_utils/_pre.py:148: ImplicitModificationWarning: Trying to modify attribute `.obs` of view, initializing view as actual.\n",
      "Now running: Donor_38_visit1:  50%|█████     | 21/42 [07:28<08:16, 23.63s/it]/work/miniconda3/envs/liana/lib/python3.8/site-packages/liana/method/_pipe_utils/_pre.py:148: ImplicitModificationWarning: Trying to modify attribute `.obs` of view, initializing view as actual.\n",
      "Now running: Donor_38_visit2:  52%|█████▏    | 22/42 [07:48<07:32, 22.60s/it]/work/miniconda3/envs/liana/lib/python3.8/site-packages/liana/method/_pipe_utils/_pre.py:148: ImplicitModificationWarning: Trying to modify attribute `.obs` of view, initializing view as actual.\n",
      "Now running: Donor_38_visit3:  55%|█████▍    | 23/42 [08:04<06:34, 20.76s/it]/work/miniconda3/envs/liana/lib/python3.8/site-packages/liana/method/_pipe_utils/_pre.py:148: ImplicitModificationWarning: Trying to modify attribute `.obs` of view, initializing view as actual.\n",
      "Now running: Donor_41_visit1:  57%|█████▋    | 24/42 [08:27<06:23, 21.29s/it]/work/miniconda3/envs/liana/lib/python3.8/site-packages/liana/method/_pipe_utils/_pre.py:148: ImplicitModificationWarning: Trying to modify attribute `.obs` of view, initializing view as actual.\n",
      "Now running: Donor_41_visit2:  60%|█████▉    | 25/42 [08:44<05:39, 19.97s/it]/work/miniconda3/envs/liana/lib/python3.8/site-packages/liana/method/_pipe_utils/_pre.py:148: ImplicitModificationWarning: Trying to modify attribute `.obs` of view, initializing view as actual.\n",
      "Now running: Donor_41_visit3:  62%|██████▏   | 26/42 [09:03<05:17, 19.84s/it]/work/miniconda3/envs/liana/lib/python3.8/site-packages/liana/method/_pipe_utils/_pre.py:148: ImplicitModificationWarning: Trying to modify attribute `.obs` of view, initializing view as actual.\n",
      "Now running: Donor_50_visit1:  64%|██████▍   | 27/42 [09:26<05:12, 20.86s/it]/work/miniconda3/envs/liana/lib/python3.8/site-packages/liana/method/_pipe_utils/_pre.py:148: ImplicitModificationWarning: Trying to modify attribute `.obs` of view, initializing view as actual.\n",
      "Now running: Donor_50_visit2:  67%|██████▋   | 28/42 [09:45<04:41, 20.08s/it]/work/miniconda3/envs/liana/lib/python3.8/site-packages/liana/method/_pipe_utils/_pre.py:148: ImplicitModificationWarning: Trying to modify attribute `.obs` of view, initializing view as actual.\n",
      "Now running: Donor_50_visit3:  69%|██████▉   | 29/42 [10:11<04:47, 22.11s/it]/work/miniconda3/envs/liana/lib/python3.8/site-packages/liana/method/_pipe_utils/_pre.py:148: ImplicitModificationWarning: Trying to modify attribute `.obs` of view, initializing view as actual.\n",
      "Now running: Donor_55_visit1:  71%|███████▏  | 30/42 [10:40<04:48, 24.00s/it]/work/miniconda3/envs/liana/lib/python3.8/site-packages/liana/method/_pipe_utils/_pre.py:148: ImplicitModificationWarning: Trying to modify attribute `.obs` of view, initializing view as actual.\n",
      "Now running: Donor_55_visit2:  74%|███████▍  | 31/42 [10:57<04:01, 22.00s/it]/work/miniconda3/envs/liana/lib/python3.8/site-packages/liana/method/_pipe_utils/_pre.py:148: ImplicitModificationWarning: Trying to modify attribute `.obs` of view, initializing view as actual.\n",
      "Now running: Donor_55_visit3:  76%|███████▌  | 32/42 [11:18<03:34, 21.50s/it]/work/miniconda3/envs/liana/lib/python3.8/site-packages/liana/method/_pipe_utils/_pre.py:148: ImplicitModificationWarning: Trying to modify attribute `.obs` of view, initializing view as actual.\n",
      "Now running: Donor_73_visit1:  79%|███████▊  | 33/42 [11:40<03:16, 21.85s/it]/work/miniconda3/envs/liana/lib/python3.8/site-packages/liana/method/_pipe_utils/_pre.py:148: ImplicitModificationWarning: Trying to modify attribute `.obs` of view, initializing view as actual.\n",
      "Now running: Donor_73_visit2:  81%|████████  | 34/42 [11:58<02:43, 20.50s/it]/work/miniconda3/envs/liana/lib/python3.8/site-packages/liana/method/_pipe_utils/_pre.py:148: ImplicitModificationWarning: Trying to modify attribute `.obs` of view, initializing view as actual.\n",
      "Now running: Donor_73_visit3:  83%|████████▎ | 35/42 [12:16<02:18, 19.85s/it]/work/miniconda3/envs/liana/lib/python3.8/site-packages/liana/method/_pipe_utils/_pre.py:148: ImplicitModificationWarning: Trying to modify attribute `.obs` of view, initializing view as actual.\n",
      "Now running: Donor_79_visit1:  86%|████████▌ | 36/42 [12:41<02:07, 21.32s/it]/work/miniconda3/envs/liana/lib/python3.8/site-packages/liana/method/_pipe_utils/_pre.py:148: ImplicitModificationWarning: Trying to modify attribute `.obs` of view, initializing view as actual.\n",
      "Now running: Donor_79_visit2:  88%|████████▊ | 37/42 [12:59<01:42, 20.45s/it]/work/miniconda3/envs/liana/lib/python3.8/site-packages/liana/method/_pipe_utils/_pre.py:148: ImplicitModificationWarning: Trying to modify attribute `.obs` of view, initializing view as actual.\n",
      "Now running: Donor_79_visit3:  90%|█████████ | 38/42 [13:21<01:23, 20.95s/it]/work/miniconda3/envs/liana/lib/python3.8/site-packages/liana/method/_pipe_utils/_pre.py:148: ImplicitModificationWarning: Trying to modify attribute `.obs` of view, initializing view as actual.\n",
      "Now running: Donor_88_visit1:  93%|█████████▎| 39/42 [13:44<01:04, 21.61s/it]/work/miniconda3/envs/liana/lib/python3.8/site-packages/liana/method/_pipe_utils/_pre.py:148: ImplicitModificationWarning: Trying to modify attribute `.obs` of view, initializing view as actual.\n",
      "Now running: Donor_88_visit2:  95%|█████████▌| 40/42 [14:02<00:40, 20.29s/it]/work/miniconda3/envs/liana/lib/python3.8/site-packages/liana/method/_pipe_utils/_pre.py:148: ImplicitModificationWarning: Trying to modify attribute `.obs` of view, initializing view as actual.\n",
      "Now running: Donor_88_visit3:  98%|█████████▊| 41/42 [14:27<00:21, 21.88s/it]/work/miniconda3/envs/liana/lib/python3.8/site-packages/liana/method/_pipe_utils/_pre.py:148: ImplicitModificationWarning: Trying to modify attribute `.obs` of view, initializing view as actual.\n",
      "Now running: Donor_88_visit3: 100%|██████████| 42/42 [14:52<00:00, 21.24s/it]\n"
     ]
    }
   ],
   "source": [
    "li.mt.rank_aggregate.by_sample(\n",
    "    adata,\n",
    "    groupby=\"anno\",\n",
    "    sample_key=\"sample\", # sample key by which we which to loop\n",
    "    use_raw=False,\n",
    "    verbose=True, # use 'full' to show all verbose information\n",
    "    n_perms=100, # reduce permutations for speed\n",
    "    return_all_lrs=True, # return all LR values\n",
    "    )"
   ]
  },
  {
   "cell_type": "markdown",
   "metadata": {},
   "source": [
    "## Save AnnData"
   ]
  },
  {
   "cell_type": "code",
   "execution_count": 8,
   "metadata": {},
   "outputs": [],
   "source": [
    "adata.write_h5ad(\"major.adata\")"
   ]
  },
  {
   "cell_type": "code",
   "execution_count": 2,
   "metadata": {},
   "outputs": [],
   "source": [
    "adata = ad.read_h5ad(\"major.adata\")"
   ]
  },
  {
   "cell_type": "code",
   "execution_count": 9,
   "metadata": {},
   "outputs": [
    {
     "name": "stderr",
     "output_type": "stream",
     "text": [
      "100%|██████████| 42/42 [18:14<00:00, 26.06s/it]\n"
     ]
    }
   ],
   "source": [
    "tensor = li.multi.to_tensor_c2c(adata,\n",
    "                                sample_key=\"sample\",\n",
    "                                score_key='magnitude_rank', # can be any score from liana\n",
    "                                how='outer_cells' # how to join the samples\n",
    "                                )"
   ]
  },
  {
   "cell_type": "code",
   "execution_count": 11,
   "metadata": {},
   "outputs": [],
   "source": [
    "context_dict = adata.obs[[\"sample\", \"visit\"]].drop_duplicates()\n",
    "context_dict = dict(zip(context_dict[\"sample\"], context_dict[\"visit\"]))\n",
    "context_dict = defaultdict(lambda: 'Unknown', context_dict)\n",
    "\n",
    "tensor_meta = c2c.tensor.generate_tensor_metadata(interaction_tensor=tensor,\n",
    "                                                  metadata_dicts=[context_dict, None, None, None],\n",
    "                                                  fill_with_order_elements=True\n",
    "                                                  )"
   ]
  },
  {
   "cell_type": "code",
   "execution_count": 12,
   "metadata": {},
   "outputs": [
    {
     "data": {
      "text/plain": [
       "[            Element Category\n",
       " 0   Donor_02_visit1   visit1\n",
       " 1   Donor_02_visit2   visit2\n",
       " 2   Donor_02_visit3   visit3\n",
       " 3   Donor_05_visit1   visit1\n",
       " 4   Donor_05_visit2   visit2\n",
       " 5   Donor_05_visit3   visit3\n",
       " 6   Donor_19_visit1   visit1\n",
       " 7   Donor_19_visit2   visit2\n",
       " 8   Donor_19_visit3   visit3\n",
       " 9   Donor_20_visit1   visit1\n",
       " 10  Donor_20_visit2   visit2\n",
       " 11  Donor_20_visit3   visit3\n",
       " 12  Donor_25_visit1   visit1\n",
       " 13  Donor_25_visit2   visit2\n",
       " 14  Donor_25_visit3   visit3\n",
       " 15  Donor_29_visit1   visit1\n",
       " 16  Donor_29_visit2   visit2\n",
       " 17  Donor_29_visit3   visit3\n",
       " 18  Donor_32_visit1   visit1\n",
       " 19  Donor_32_visit2   visit2\n",
       " 20  Donor_32_visit3   visit3\n",
       " 21  Donor_38_visit1   visit1\n",
       " 22  Donor_38_visit2   visit2\n",
       " 23  Donor_38_visit3   visit3\n",
       " 24  Donor_41_visit1   visit1\n",
       " 25  Donor_41_visit2   visit2\n",
       " 26  Donor_41_visit3   visit3\n",
       " 27  Donor_50_visit1   visit1\n",
       " 28  Donor_50_visit2   visit2\n",
       " 29  Donor_50_visit3   visit3\n",
       " 30  Donor_55_visit1   visit1\n",
       " 31  Donor_55_visit2   visit2\n",
       " 32  Donor_55_visit3   visit3\n",
       " 33  Donor_73_visit1   visit1\n",
       " 34  Donor_73_visit2   visit2\n",
       " 35  Donor_73_visit3   visit3\n",
       " 36  Donor_79_visit1   visit1\n",
       " 37  Donor_79_visit2   visit2\n",
       " 38  Donor_79_visit3   visit3\n",
       " 39  Donor_88_visit1   visit1\n",
       " 40  Donor_88_visit2   visit2\n",
       " 41  Donor_88_visit3   visit3,\n",
       "               Element               Category\n",
       " 0            A2M^LRP1  Ligand-Receptor Pairs\n",
       " 1          ACE^BDKRB2  Ligand-Receptor Pairs\n",
       " 2         ACTR2^ADRB2  Ligand-Receptor Pairs\n",
       " 3          ACTR2^LDLR  Ligand-Receptor Pairs\n",
       " 4          ACTR2^LRP2  Ligand-Receptor Pairs\n",
       " ...               ...                    ...\n",
       " 2414  WNT9A^FZD8_LRP5  Ligand-Receptor Pairs\n",
       " 2415  WNT9A^FZD8_LRP6  Ligand-Receptor Pairs\n",
       " 2416       ZP3^CHRNA7  Ligand-Receptor Pairs\n",
       " 2417         ZP3^EGFR  Ligand-Receptor Pairs\n",
       " 2418        ZP3^MERTK  Ligand-Receptor Pairs\n",
       " \n",
       " [2419 rows x 2 columns],\n",
       "                  Element               Category\n",
       " 0                  ASPCs                  ASPCs\n",
       " 1             Adipocytes             Adipocytes\n",
       " 2                     EC                     EC\n",
       " 3  Lymphoid immune cells  Lymphoid immune cells\n",
       " 4   Myeloid immune cells   Myeloid immune cells\n",
       " 5              Pericytes              Pericytes\n",
       " 6                   SMCs                   SMCs,\n",
       "                  Element               Category\n",
       " 0                  ASPCs                  ASPCs\n",
       " 1             Adipocytes             Adipocytes\n",
       " 2                     EC                     EC\n",
       " 3  Lymphoid immune cells  Lymphoid immune cells\n",
       " 4   Myeloid immune cells   Myeloid immune cells\n",
       " 5              Pericytes              Pericytes\n",
       " 6                   SMCs                   SMCs]"
      ]
     },
     "execution_count": 12,
     "metadata": {},
     "output_type": "execute_result"
    }
   ],
   "source": [
    "tensor_meta"
   ]
  },
  {
   "cell_type": "code",
   "execution_count": 13,
   "metadata": {},
   "outputs": [
    {
     "name": "stderr",
     "output_type": "stream",
     "text": [
      "/work/miniconda3/envs/liana/lib/python3.8/site-packages/tensorly/backend/pytorch_backend.py:39: UserWarning: To copy construct from a tensor, it is recommended to use sourceTensor.clone().detach() or sourceTensor.clone().detach().requires_grad_(True), rather than torch.tensor(sourceTensor).\n"
     ]
    },
    {
     "name": "stdout",
     "output_type": "stream",
     "text": [
      "Running Elbow Analysis\n"
     ]
    },
    {
     "name": "stderr",
     "output_type": "stream",
     "text": [
      "100%|██████████| 20/20 [26:19<00:00, 78.96s/it] \n"
     ]
    },
    {
     "name": "stdout",
     "output_type": "stream",
     "text": [
      "The rank at the elbow is: 11\n",
      "Running Tensor Factorization\n"
     ]
    },
    {
     "name": "stderr",
     "output_type": "stream",
     "text": [
      "100%|██████████| 100/100 [06:12<00:00,  3.73s/it]"
     ]
    },
    {
     "name": "stdout",
     "output_type": "stream",
     "text": [
      "Best model has a normalized error of: 0.609\n"
     ]
    },
    {
     "name": "stderr",
     "output_type": "stream",
     "text": [
      "\n"
     ]
    }
   ],
   "source": [
    "tensor = c2c.analysis.run_tensor_cell2cell_pipeline(tensor,\n",
    "                                                    tensor_meta,\n",
    "                                                    copy_tensor=True, # Whether to output a new tensor or modifying the original\n",
    "                                                    rank=11, # Number of factors to perform the factorization. If None, it is automatically determined by an elbow analysis. Here, it was precomuputed.\n",
    "                                                    tf_optimization='robust', # To define how robust we want the analysis to be.\n",
    "                                                    random_state=0, # Random seed for reproducibility\n",
    "                                                    device='cuda', # Device to use. If using GPU and PyTorch, use 'cuda'. For CPU use 'cpu'\n",
    "                                                    elbow_metric='error', # Metric to use in the elbow analysis.\n",
    "                                                    smooth_elbow=False, # Whether smoothing the metric of the elbow analysis.\n",
    "                                                    upper_rank=20, # Max number of factors to try in the elbow analysis\n",
    "                                                    tf_init='random', # Initialization method of the tensor factorization\n",
    "                                                    tf_svd='numpy_svd', # Type of SVD to use if the initialization is 'svd'\n",
    "                                                    cmaps=None, # Color palettes to use in color each of the dimensions. Must be a list of palettes.\n",
    "                                                    sample_col='Element', # Columns containing the elements in the tensor metadata\n",
    "                                                    group_col='Category', # Columns containing the major groups in the tensor metadata\n",
    "                                                    output_fig=False, # Whether to output the figures. If False, figures won't be saved a files if a folder was passed in output_folder.\n",
    "                                                    )"
   ]
  },
  {
   "cell_type": "markdown",
   "metadata": {},
   "source": [
    "## Save results"
   ]
  },
  {
   "cell_type": "code",
   "execution_count": 14,
   "metadata": {},
   "outputs": [
    {
     "name": "stdout",
     "output_type": "stream",
     "text": [
      "/work/02_data/06_cci/tensor_major.pkl  was correctly saved.\n"
     ]
    }
   ],
   "source": [
    "c2c.io.export_variable_with_pickle(tensor, \"tensor_major.pkl\")"
   ]
  },
  {
   "cell_type": "markdown",
   "metadata": {},
   "source": [
    "## Export data to R"
   ]
  },
  {
   "cell_type": "code",
   "execution_count": 29,
   "metadata": {},
   "outputs": [],
   "source": [
    "adata.uns[\"liana_res\"].to_csv(\"liana_res.csv\")"
   ]
  },
  {
   "cell_type": "markdown",
   "metadata": {},
   "source": [
    "# Plotting"
   ]
  },
  {
   "cell_type": "markdown",
   "metadata": {},
   "source": [
    "## Load results"
   ]
  },
  {
   "cell_type": "code",
   "execution_count": 2,
   "metadata": {},
   "outputs": [
    {
     "name": "stderr",
     "output_type": "stream",
     "text": [
      "/work/miniconda3/envs/liana/lib/python3.8/site-packages/tensorly/backend/pytorch_backend.py:39: UserWarning: To copy construct from a tensor, it is recommended to use sourceTensor.clone().detach() or sourceTensor.clone().detach().requires_grad_(True), rather than torch.tensor(sourceTensor).\n"
     ]
    }
   ],
   "source": [
    "tensor = c2c.io.load_tensor(\"tensor_major.pkl\")\n",
    "adata = ad.read_h5ad(\"major.adata\")"
   ]
  },
  {
   "cell_type": "markdown",
   "metadata": {},
   "source": [
    "Create dict and meta"
   ]
  },
  {
   "cell_type": "markdown",
   "metadata": {},
   "source": [
    "## Figures 7b, Extended Data Figure 10a"
   ]
  },
  {
   "cell_type": "code",
   "execution_count": 14,
   "metadata": {},
   "outputs": [],
   "source": [
    "context_dict = adata.obs[[\"sample\", \"visit\"]].drop_duplicates()\n",
    "context_dict = dict(zip(context_dict[\"sample\"], context_dict[\"visit\"]))\n",
    "context_dict = defaultdict(lambda: 'Unknown', context_dict)\n",
    "\n",
    "tensor_meta = c2c.tensor.generate_tensor_metadata(interaction_tensor=tensor,\n",
    "                                                  metadata_dicts=[context_dict, None, None, None],\n",
    "                                                  fill_with_order_elements=True\n",
    "                                                  )"
   ]
  },
  {
   "cell_type": "code",
   "execution_count": 7,
   "metadata": {},
   "outputs": [
    {
     "name": "stdout",
     "output_type": "stream",
     "text": [
      "p-value annotation legend:\n",
      "      ns: p <= 1.00e+00\n",
      "       *: 1.00e-02 < p <= 5.00e-02\n",
      "      **: 1.00e-03 < p <= 1.00e-02\n",
      "     ***: 1.00e-04 < p <= 1.00e-03\n",
      "    ****: p <= 1.00e-04\n",
      "\n",
      "visit1 vs. visit2: Wilcoxon test (paired samples) with Benjamini-Hochberg correction, P_val:1.937e-01 Stat=3.100e+01\n",
      "visit2 vs. visit3: Wilcoxon test (paired samples) with Benjamini-Hochberg correction, P_val:2.676e-01 Stat=3.400e+01\n",
      "visit1 vs. visit3: Wilcoxon test (paired samples) with Benjamini-Hochberg correction, P_val:6.257e-01 Stat=4.400e+01\n",
      "p-value annotation legend:\n",
      "      ns: p <= 1.00e+00\n",
      "       *: 1.00e-02 < p <= 5.00e-02\n",
      "      **: 1.00e-03 < p <= 1.00e-02\n",
      "     ***: 1.00e-04 < p <= 1.00e-03\n",
      "    ****: p <= 1.00e-04\n",
      "\n",
      "visit1 vs. visit2: Wilcoxon test (paired samples) with Benjamini-Hochberg correction, P_val:3.575e-01 Stat=3.700e+01\n",
      "visit2 vs. visit3: Wilcoxon test (paired samples) with Benjamini-Hochberg correction, P_val:2.319e-03 Stat=7.000e+00\n",
      "visit1 vs. visit3: Wilcoxon test (paired samples) with Benjamini-Hochberg correction, P_val:7.849e-02 Stat=2.400e+01\n",
      "p-value annotation legend:\n",
      "      ns: p <= 1.00e+00\n",
      "       *: 1.00e-02 < p <= 5.00e-02\n",
      "      **: 1.00e-03 < p <= 1.00e-02\n",
      "     ***: 1.00e-04 < p <= 1.00e-03\n",
      "    ****: p <= 1.00e-04\n",
      "\n",
      "visit1 vs. visit2: Wilcoxon test (paired samples) with Benjamini-Hochberg correction, P_val:2.676e-01 Stat=3.400e+01\n",
      "visit2 vs. visit3: Wilcoxon test (paired samples) with Benjamini-Hochberg correction, P_val:8.545e-03 Stat=1.200e+01\n",
      "visit1 vs. visit3: Wilcoxon test (paired samples) with Benjamini-Hochberg correction, P_val:4.028e-03 Stat=9.000e+00\n",
      "p-value annotation legend:\n",
      "      ns: p <= 1.00e+00\n",
      "       *: 1.00e-02 < p <= 5.00e-02\n",
      "      **: 1.00e-03 < p <= 1.00e-02\n",
      "     ***: 1.00e-04 < p <= 1.00e-03\n",
      "    ****: p <= 1.00e-04\n",
      "\n",
      "visit1 vs. visit2: Wilcoxon test (paired samples) with Benjamini-Hochberg correction, P_val:1.353e-01 Stat=2.800e+01\n",
      "visit2 vs. visit3: Wilcoxon test (paired samples) with Benjamini-Hochberg correction, P_val:6.763e-02 Stat=2.300e+01\n",
      "visit1 vs. visit3: Wilcoxon test (paired samples) with Benjamini-Hochberg correction, P_val:1.726e-01 Stat=3.000e+01\n",
      "p-value annotation legend:\n",
      "      ns: p <= 1.00e+00\n",
      "       *: 1.00e-02 < p <= 5.00e-02\n",
      "      **: 1.00e-03 < p <= 1.00e-02\n",
      "     ***: 1.00e-04 < p <= 1.00e-03\n",
      "    ****: p <= 1.00e-04\n",
      "\n",
      "visit1 vs. visit2: Wilcoxon test (paired samples) with Benjamini-Hochberg correction, P_val:2.958e-01 Stat=3.500e+01\n",
      "visit2 vs. visit3: Wilcoxon test (paired samples) with Benjamini-Hochberg correction, P_val:5.016e-01 Stat=4.100e+01\n",
      "visit1 vs. visit3: Wilcoxon test (paired samples) with Benjamini-Hochberg correction, P_val:1.000e+00 Stat=5.200e+01\n",
      "p-value annotation legend:\n",
      "      ns: p <= 1.00e+00\n",
      "       *: 1.00e-02 < p <= 5.00e-02\n",
      "      **: 1.00e-03 < p <= 1.00e-02\n",
      "     ***: 1.00e-04 < p <= 1.00e-03\n",
      "    ****: p <= 1.00e-04\n",
      "\n",
      "visit1 vs. visit2: Wilcoxon test (paired samples) with Benjamini-Hochberg correction, P_val:9.032e-01 Stat=5.000e+01\n",
      "visit2 vs. visit3: Wilcoxon test (paired samples) with Benjamini-Hochberg correction, P_val:2.166e-01 Stat=3.200e+01\n",
      "visit1 vs. visit3: Wilcoxon test (paired samples) with Benjamini-Hochberg correction, P_val:1.531e-01 Stat=2.900e+01\n",
      "p-value annotation legend:\n",
      "      ns: p <= 1.00e+00\n",
      "       *: 1.00e-02 < p <= 5.00e-02\n",
      "      **: 1.00e-03 < p <= 1.00e-02\n",
      "     ***: 1.00e-04 < p <= 1.00e-03\n",
      "    ****: p <= 1.00e-04\n",
      "\n",
      "visit1 vs. visit2: Wilcoxon test (paired samples) with Benjamini-Hochberg correction, P_val:1.353e-01 Stat=2.800e+01\n",
      "visit2 vs. visit3: Wilcoxon test (paired samples) with Benjamini-Hochberg correction, P_val:2.958e-01 Stat=3.500e+01\n",
      "visit1 vs. visit3: Wilcoxon test (paired samples) with Benjamini-Hochberg correction, P_val:9.515e-01 Stat=5.100e+01\n",
      "p-value annotation legend:\n",
      "      ns: p <= 1.00e+00\n",
      "       *: 1.00e-02 < p <= 5.00e-02\n",
      "      **: 1.00e-03 < p <= 1.00e-02\n",
      "     ***: 1.00e-04 < p <= 1.00e-03\n",
      "    ****: p <= 1.00e-04\n",
      "\n",
      "visit1 vs. visit2: Wilcoxon test (paired samples) with Benjamini-Hochberg correction, P_val:7.609e-01 Stat=4.700e+01\n",
      "visit2 vs. visit3: Wilcoxon test (paired samples) with Benjamini-Hochberg correction, P_val:6.698e-01 Stat=4.500e+01\n",
      "visit1 vs. visit3: Wilcoxon test (paired samples) with Benjamini-Hochberg correction, P_val:2.412e-01 Stat=3.300e+01\n",
      "p-value annotation legend:\n",
      "      ns: p <= 1.00e+00\n",
      "       *: 1.00e-02 < p <= 5.00e-02\n",
      "      **: 1.00e-03 < p <= 1.00e-02\n",
      "     ***: 1.00e-04 < p <= 1.00e-03\n",
      "    ****: p <= 1.00e-04\n",
      "\n",
      "visit1 vs. visit2: Wilcoxon test (paired samples) with Benjamini-Hochberg correction, P_val:3.910e-01 Stat=3.800e+01\n",
      "visit2 vs. visit3: Wilcoxon test (paired samples) with Benjamini-Hochberg correction, P_val:2.958e-01 Stat=3.500e+01\n",
      "visit1 vs. visit3: Wilcoxon test (paired samples) with Benjamini-Hochberg correction, P_val:5.016e-01 Stat=4.100e+01\n",
      "p-value annotation legend:\n",
      "      ns: p <= 1.00e+00\n",
      "       *: 1.00e-02 < p <= 5.00e-02\n",
      "      **: 1.00e-03 < p <= 1.00e-02\n",
      "     ***: 1.00e-04 < p <= 1.00e-03\n",
      "    ****: p <= 1.00e-04\n",
      "\n",
      "visit1 vs. visit2: Wilcoxon test (paired samples) with Benjamini-Hochberg correction, P_val:6.763e-02 Stat=2.300e+01\n",
      "visit2 vs. visit3: Wilcoxon test (paired samples) with Benjamini-Hochberg correction, P_val:3.910e-01 Stat=3.800e+01\n",
      "visit1 vs. visit3: Wilcoxon test (paired samples) with Benjamini-Hochberg correction, P_val:1.000e+00 Stat=5.200e+01\n",
      "p-value annotation legend:\n",
      "      ns: p <= 1.00e+00\n",
      "       *: 1.00e-02 < p <= 5.00e-02\n",
      "      **: 1.00e-03 < p <= 1.00e-02\n",
      "     ***: 1.00e-04 < p <= 1.00e-03\n",
      "    ****: p <= 1.00e-04\n",
      "\n",
      "visit1 vs. visit2: Wilcoxon test (paired samples) with Benjamini-Hochberg correction, P_val:5.416e-01 Stat=4.200e+01\n",
      "visit2 vs. visit3: Wilcoxon test (paired samples) with Benjamini-Hochberg correction, P_val:7.849e-02 Stat=2.400e+01\n",
      "visit1 vs. visit3: Wilcoxon test (paired samples) with Benjamini-Hochberg correction, P_val:1.189e-01 Stat=2.700e+01\n"
     ]
    },
    {
     "data": {
      "image/png": "[encoded data removed]",
      "text/plain": [
       "<Figure size 1200x600 with 12 Axes>"
      ]
     },
     "metadata": {},
     "output_type": "display_data"
    }
   ],
   "source": [
    "_ = c2c.plotting.factor_plot.context_boxplot(tensor.factors['Contexts'],\n",
    "                                             metadict=context_dict,\n",
    "                                             nrows=2,\n",
    "                                             figsize=(12, 6),\n",
    "                                             group_order=['visit1', 'visit2',\"visit3\"],\n",
    "                                             statistical_test='Wilcoxon',\n",
    "                                             pval_correction='BH',\n",
    "                                             cmap=[\"#374E55FF\",\"#DF8F44FF\",\"#00A1D5FF\"],\n",
    "                                             verbose=True,\n",
    "                                             filename=None\n",
    "                                             )\n",
    "\n",
    "plt.show()"
   ]
  },
  {
   "cell_type": "markdown",
   "metadata": {},
   "source": [
    "## Figure 7c"
   ]
  },
  {
   "cell_type": "code",
   "execution_count": 24,
   "metadata": {},
   "outputs": [
    {
     "data": {
      "image/png": "[encoded data removed]",
      "text/plain": [
       "<Figure size 1200x1200 with 1 Axes>"
      ]
     },
     "metadata": {},
     "output_type": "display_data"
    }
   ],
   "source": [
    "c2c.plotting.ccc_networks_plot(tensor,\n",
    "                               included_factors=['Factor 3'],\n",
    "                               ccc_threshold=0.02, # Only important communication\n",
    "                               nrows=1,\n",
    "                               panel_size=(12, 12), # This changes the size of each figure panel.\n",
    "                              )\n",
    "\n",
    "plt.show()"
   ]
  },
  {
   "cell_type": "markdown",
   "metadata": {},
   "source": [
    "## Extended Data Figure 10b,c"
   ]
  },
  {
   "cell_type": "code",
   "execution_count": 9,
   "metadata": {},
   "outputs": [
    {
     "data": {
      "image/png": "[encoded data removed]",
      "text/plain": [
       "<Figure size 400x500 with 4 Axes>"
      ]
     },
     "metadata": {},
     "output_type": "display_data"
    }
   ],
   "source": [
    "lr_cm = c2c.plotting.loading_clustermap(tensor.factors['Sender Cells'],\n",
    "                                        loading_threshold=0.12, # To consider only top LRs\n",
    "                                        use_zscore=True,\n",
    "                                        figsize=(4, 5),\n",
    "                                        filename=None\n",
    "                                       )\n",
    "plt.show()"
   ]
  },
  {
   "cell_type": "code",
   "execution_count": 10,
   "metadata": {},
   "outputs": [
    {
     "data": {
      "image/png": "[encoded data removed]",
      "text/plain": [
       "<Figure size 400x500 with 4 Axes>"
      ]
     },
     "metadata": {},
     "output_type": "display_data"
    }
   ],
   "source": [
    "lr_cm = c2c.plotting.loading_clustermap(tensor.factors['Receiver Cells'],\n",
    "                                        loading_threshold=0.12, # To consider only top LRs\n",
    "                                        use_zscore=True,\n",
    "                                        figsize=(4, 5),\n",
    "                                        filename=None\n",
    "                                       )\n",
    "plt.show()"
   ]
  },
  {
   "cell_type": "code",
   "execution_count": 67,
   "metadata": {},
   "outputs": [],
   "source": [
    "# Same as for C2C pipeline\n",
    "\n",
    "lr_pairs = pd.read_csv('https://raw.githubusercontent.com/LewisLabUCSD/Ligand-Receptor-Pairs/master/Human/Human-2020-Jin-LR-pairs.csv')\n",
    "lr_pairs = lr_pairs.astype(str)"
   ]
  },
  {
   "cell_type": "code",
   "execution_count": 68,
   "metadata": {},
   "outputs": [],
   "source": [
    "pathway_per_gene = defaultdict(set)\n",
    "with open('/work/02_data/00_other/c2.cp.reactome.v2023.2.Hs.symbols.gmt', 'rb') as f:\n",
    "    for i, line in enumerate(f):\n",
    "        l = line.decode(\"utf-8\").split('\\t')\n",
    "        l[-1] = l[-1].replace('\\n', '')\n",
    "        l = [pw for pw in l if ('http' not in pw)] # Remove website info\n",
    "        for gene in l[1:]:\n",
    "            pathway_per_gene[gene] = pathway_per_gene[gene].union(set([l[0]]))"
   ]
  },
  {
   "cell_type": "code",
   "execution_count": 69,
   "metadata": {},
   "outputs": [],
   "source": [
    "# If the LR db include protein complexes. \n",
    "# This is the character separating members\n",
    "complex_sep = '&' \n",
    "\n",
    "# Dictionary to save the LR interaction (key) and the annotated pathways (values).\n",
    "pathway_sets = defaultdict(set)\n",
    "\n",
    "# Iterate through the interactions in the LR DB.\n",
    "for idx, row in lr_pairs.iterrows():\n",
    "    lr_label = row['interaction_symbol']\n",
    "    lr = lr_label.split('^')\n",
    "    \n",
    "    # Gene members of the ligand and the receptor in the LR pair\n",
    "    if complex_sep is None:\n",
    "        ligands = [lr[0]]\n",
    "        receptors = [lr[1]]\n",
    "    else:\n",
    "        ligands = lr[0].split(complex_sep)\n",
    "        receptors = lr[1].split(complex_sep)\n",
    "    \n",
    "    # Find pathways associated with all members of the ligand\n",
    "    for i, ligand in enumerate(ligands):\n",
    "        if i == 0:\n",
    "            ligand_pathways = pathway_per_gene[ligand]\n",
    "        else:\n",
    "            ligand_pathways = ligand_pathways.intersection(pathway_per_gene[ligand])\n",
    "            \n",
    "    # Find pathways associated with all members of the receptor\n",
    "    for i, receptor in enumerate(receptors):\n",
    "        if i == 0:\n",
    "            receptor_pathways = pathway_per_gene[receptor]\n",
    "        else:\n",
    "            receptor_pathways = receptor_pathways.intersection(pathway_per_gene[receptor])\n",
    "\n",
    "    # Keep only pathways that are in both ligand and receptor.\n",
    "    lr_pathways = ligand_pathways.intersection(receptor_pathways)\n",
    "    for p in lr_pathways:\n",
    "        pathway_sets[p] = pathway_sets[p].union([lr_label])"
   ]
  },
  {
   "cell_type": "code",
   "execution_count": 70,
   "metadata": {},
   "outputs": [],
   "source": [
    "K=15\n",
    "\n",
    "lr_set = defaultdict(set)\n",
    "    \n",
    "for k, v in pathway_sets.items():\n",
    "    if len(v) >= K:\n",
    "        lr_set[k] = v"
   ]
  },
  {
   "cell_type": "code",
   "execution_count": 71,
   "metadata": {},
   "outputs": [
    {
     "data": {
      "text/plain": [
       "85"
      ]
     },
     "execution_count": 71,
     "metadata": {},
     "output_type": "execute_result"
    }
   ],
   "source": [
    "len(lr_set)"
   ]
  },
  {
   "cell_type": "code",
   "execution_count": 72,
   "metadata": {},
   "outputs": [],
   "source": [
    "weight = 1\n",
    "min_size = 15\n",
    "permutations = 999\n",
    "significance_threshold = 0.25"
   ]
  },
  {
   "cell_type": "code",
   "execution_count": 73,
   "metadata": {},
   "outputs": [],
   "source": [
    "loadings = tensor.factors['Ligand-Receptor Pairs'].reset_index()"
   ]
  },
  {
   "cell_type": "code",
   "execution_count": 74,
   "metadata": {},
   "outputs": [
    {
     "name": "stderr",
     "output_type": "stream",
     "text": [
      "2024-04-03 15:27:13,912 [WARNING] Duplicated values found in preranked stats: 34.77% of genes\n",
      "The order of those genes will be arbitrary, which may produce unexpected results.\n",
      "2024-04-03 15:27:14,084 [WARNING] Duplicated values found in preranked stats: 34.35% of genes\n",
      "The order of those genes will be arbitrary, which may produce unexpected results.\n",
      "2024-04-03 15:27:14,249 [WARNING] Duplicated values found in preranked stats: 32.86% of genes\n",
      "The order of those genes will be arbitrary, which may produce unexpected results.\n",
      "2024-04-03 15:27:14,413 [WARNING] Duplicated values found in preranked stats: 43.70% of genes\n",
      "The order of those genes will be arbitrary, which may produce unexpected results.\n",
      "2024-04-03 15:27:16,784 [WARNING] Duplicated values found in preranked stats: 40.47% of genes\n",
      "The order of those genes will be arbitrary, which may produce unexpected results.\n",
      "2024-04-03 15:27:16,962 [WARNING] Duplicated values found in preranked stats: 37.04% of genes\n",
      "The order of those genes will be arbitrary, which may produce unexpected results.\n",
      "2024-04-03 15:27:17,132 [WARNING] Duplicated values found in preranked stats: 74.08% of genes\n",
      "The order of those genes will be arbitrary, which may produce unexpected results.\n",
      "2024-04-03 15:27:19,466 [WARNING] Duplicated values found in preranked stats: 42.04% of genes\n",
      "The order of those genes will be arbitrary, which may produce unexpected results.\n",
      "2024-04-03 15:27:21,370 [WARNING] Duplicated values found in preranked stats: 41.92% of genes\n",
      "The order of those genes will be arbitrary, which may produce unexpected results.\n",
      "2024-04-03 15:27:21,545 [WARNING] Duplicated values found in preranked stats: 36.83% of genes\n",
      "The order of those genes will be arbitrary, which may produce unexpected results.\n",
      "2024-04-03 15:27:23,023 [WARNING] Duplicated values found in preranked stats: 39.85% of genes\n",
      "The order of those genes will be arbitrary, which may produce unexpected results.\n"
     ]
    }
   ],
   "source": [
    "for factor in loadings.columns[1:]:\n",
    "    # Rank LR pairs of each factor by their respective loadings\n",
    "    test = loadings[['index', factor]]\n",
    "    test.columns = [0, 1]\n",
    "    test = test.sort_values(by=1, ascending=False)\n",
    "    test.reset_index(drop=True, inplace=True)\n",
    "\n",
    "    # RUN GSEA\n",
    "    gseapy.prerank(rnk=test,\n",
    "                   gene_sets=lr_set,\n",
    "                   min_size=min_size,\n",
    "                   weighted_score_type=weight,\n",
    "                   threads=12,\n",
    "                   permutation_num=permutations, # reduce number to speed up testing\n",
    "                   outdir='/work/02_data/00_other/C2C_GSEA/' + factor, format='png', seed=6)"
   ]
  },
  {
   "cell_type": "code",
   "execution_count": 75,
   "metadata": {},
   "outputs": [],
   "source": [
    "pvals = []\n",
    "terms = []\n",
    "factors = []\n",
    "nes = []\n",
    "for factor in loadings.columns[1:]:\n",
    "    p_report = pd.read_csv('/work/02_data/00_other/C2C_GSEA/' + factor + '/gseapy.gene_set.prerank.report.csv')\n",
    "    pval = p_report['NOM p-val'].values.tolist()\n",
    "    pvals.extend(pval)\n",
    "    terms.extend(p_report.Term.values.tolist())\n",
    "    factors.extend([factor] * len(pval))\n",
    "    nes.extend(p_report['NES'].values.tolist())\n",
    "pval_df = pd.DataFrame(np.asarray([factors, terms, nes, pvals]).T, columns=['Factor', 'Term', 'NES', 'P-value'])\n",
    "pval_df = pval_df.loc[pval_df['P-value'] != 'nan']\n",
    "pval_df['P-value'] = pd.to_numeric(pval_df['P-value'])\n",
    "pval_df['P-value'] = pval_df['P-value'].replace(0., 1./(permutations+1))\n",
    "pval_df['NES'] = pd.to_numeric(pval_df['NES'])"
   ]
  },
  {
   "cell_type": "code",
   "execution_count": 76,
   "metadata": {},
   "outputs": [],
   "source": [
    "pval_df['Adj. P-value'] = fdrcorrection(pval_df['P-value'].values,\n",
    "                                        alpha=0.05)[1]"
   ]
  },
  {
   "cell_type": "code",
   "execution_count": 77,
   "metadata": {},
   "outputs": [
    {
     "data": {
      "text/html": [
       "<div>\n",
       "<style scoped>\n",
       "    .dataframe tbody tr th:only-of-type {\n",
       "        vertical-align: middle;\n",
       "    }\n",
       "\n",
       "    .dataframe tbody tr th {\n",
       "        vertical-align: top;\n",
       "    }\n",
       "\n",
       "    .dataframe thead th {\n",
       "        text-align: right;\n",
       "    }\n",
       "</style>\n",
       "<table border=\"1\" class=\"dataframe\">\n",
       "  <thead>\n",
       "    <tr style=\"text-align: right;\">\n",
       "      <th></th>\n",
       "      <th>Factor</th>\n",
       "      <th>Term</th>\n",
       "      <th>NES</th>\n",
       "      <th>P-value</th>\n",
       "      <th>Adj. P-value</th>\n",
       "    </tr>\n",
       "  </thead>\n",
       "  <tbody>\n",
       "    <tr>\n",
       "      <th>0</th>\n",
       "      <td>Factor 1</td>\n",
       "      <td>REACTOME_DEGRADATION_OF_THE_EXTRACELLULAR_MATRIX</td>\n",
       "      <td>1.051557</td>\n",
       "      <td>0.182182</td>\n",
       "      <td>0.637914</td>\n",
       "    </tr>\n",
       "    <tr>\n",
       "      <th>1</th>\n",
       "      <td>Factor 1</td>\n",
       "      <td>REACTOME_CYTOKINE_SIGNALING_IN_IMMUNE_SYSTEM</td>\n",
       "      <td>1.051398</td>\n",
       "      <td>0.197197</td>\n",
       "      <td>0.637914</td>\n",
       "    </tr>\n",
       "    <tr>\n",
       "      <th>2</th>\n",
       "      <td>Factor 1</td>\n",
       "      <td>REACTOME_EXTRACELLULAR_MATRIX_ORGANIZATION</td>\n",
       "      <td>1.049523</td>\n",
       "      <td>0.100100</td>\n",
       "      <td>0.637914</td>\n",
       "    </tr>\n",
       "    <tr>\n",
       "      <th>3</th>\n",
       "      <td>Factor 1</td>\n",
       "      <td>REACTOME_CHEMOKINE_RECEPTORS_BIND_CHEMOKINES</td>\n",
       "      <td>1.047509</td>\n",
       "      <td>0.257257</td>\n",
       "      <td>0.637914</td>\n",
       "    </tr>\n",
       "    <tr>\n",
       "      <th>4</th>\n",
       "      <td>Factor 1</td>\n",
       "      <td>REACTOME_HEMOSTASIS</td>\n",
       "      <td>1.046338</td>\n",
       "      <td>0.233233</td>\n",
       "      <td>0.637914</td>\n",
       "    </tr>\n",
       "    <tr>\n",
       "      <th>...</th>\n",
       "      <td>...</td>\n",
       "      <td>...</td>\n",
       "      <td>...</td>\n",
       "      <td>...</td>\n",
       "      <td>...</td>\n",
       "    </tr>\n",
       "    <tr>\n",
       "      <th>369</th>\n",
       "      <td>Factor 11</td>\n",
       "      <td>REACTOME_BETA_CATENIN_INDEPENDENT_WNT_SIGNALING</td>\n",
       "      <td>0.961987</td>\n",
       "      <td>0.718719</td>\n",
       "      <td>1.000000</td>\n",
       "    </tr>\n",
       "    <tr>\n",
       "      <th>370</th>\n",
       "      <td>Factor 11</td>\n",
       "      <td>REACTOME_SIGNALING_BY_WNT</td>\n",
       "      <td>0.961987</td>\n",
       "      <td>0.718719</td>\n",
       "      <td>1.000000</td>\n",
       "    </tr>\n",
       "    <tr>\n",
       "      <th>371</th>\n",
       "      <td>Factor 11</td>\n",
       "      <td>REACTOME_EPHA_MEDIATED_GROWTH_CONE_COLLAPSE</td>\n",
       "      <td>0.960476</td>\n",
       "      <td>0.739740</td>\n",
       "      <td>1.000000</td>\n",
       "    </tr>\n",
       "    <tr>\n",
       "      <th>372</th>\n",
       "      <td>Factor 11</td>\n",
       "      <td>REACTOME_CLASS_B_2_SECRETIN_FAMILY_RECEPTORS</td>\n",
       "      <td>0.923295</td>\n",
       "      <td>0.942943</td>\n",
       "      <td>1.000000</td>\n",
       "    </tr>\n",
       "    <tr>\n",
       "      <th>373</th>\n",
       "      <td>Factor 11</td>\n",
       "      <td>REACTOME_NON_INTEGRIN_MEMBRANE_ECM_INTERACTIONS</td>\n",
       "      <td>0.906477</td>\n",
       "      <td>0.908909</td>\n",
       "      <td>1.000000</td>\n",
       "    </tr>\n",
       "  </tbody>\n",
       "</table>\n",
       "<p>374 rows × 5 columns</p>\n",
       "</div>"
      ],
      "text/plain": [
       "        Factor                                              Term       NES  \\\n",
       "0     Factor 1  REACTOME_DEGRADATION_OF_THE_EXTRACELLULAR_MATRIX  1.051557   \n",
       "1     Factor 1      REACTOME_CYTOKINE_SIGNALING_IN_IMMUNE_SYSTEM  1.051398   \n",
       "2     Factor 1        REACTOME_EXTRACELLULAR_MATRIX_ORGANIZATION  1.049523   \n",
       "3     Factor 1      REACTOME_CHEMOKINE_RECEPTORS_BIND_CHEMOKINES  1.047509   \n",
       "4     Factor 1                               REACTOME_HEMOSTASIS  1.046338   \n",
       "..         ...                                               ...       ...   \n",
       "369  Factor 11   REACTOME_BETA_CATENIN_INDEPENDENT_WNT_SIGNALING  0.961987   \n",
       "370  Factor 11                         REACTOME_SIGNALING_BY_WNT  0.961987   \n",
       "371  Factor 11       REACTOME_EPHA_MEDIATED_GROWTH_CONE_COLLAPSE  0.960476   \n",
       "372  Factor 11      REACTOME_CLASS_B_2_SECRETIN_FAMILY_RECEPTORS  0.923295   \n",
       "373  Factor 11   REACTOME_NON_INTEGRIN_MEMBRANE_ECM_INTERACTIONS  0.906477   \n",
       "\n",
       "      P-value  Adj. P-value  \n",
       "0    0.182182      0.637914  \n",
       "1    0.197197      0.637914  \n",
       "2    0.100100      0.637914  \n",
       "3    0.257257      0.637914  \n",
       "4    0.233233      0.637914  \n",
       "..        ...           ...  \n",
       "369  0.718719      1.000000  \n",
       "370  0.718719      1.000000  \n",
       "371  0.739740      1.000000  \n",
       "372  0.942943      1.000000  \n",
       "373  0.908909      1.000000  \n",
       "\n",
       "[374 rows x 5 columns]"
      ]
     },
     "execution_count": 77,
     "metadata": {},
     "output_type": "execute_result"
    }
   ],
   "source": [
    "pval_df"
   ]
  },
  {
   "cell_type": "code",
   "execution_count": 78,
   "metadata": {},
   "outputs": [
    {
     "data": {
      "text/html": [
       "<div>\n",
       "<style scoped>\n",
       "    .dataframe tbody tr th:only-of-type {\n",
       "        vertical-align: middle;\n",
       "    }\n",
       "\n",
       "    .dataframe tbody tr th {\n",
       "        vertical-align: top;\n",
       "    }\n",
       "\n",
       "    .dataframe thead th {\n",
       "        text-align: right;\n",
       "    }\n",
       "</style>\n",
       "<table border=\"1\" class=\"dataframe\">\n",
       "  <thead>\n",
       "    <tr style=\"text-align: right;\">\n",
       "      <th></th>\n",
       "      <th>Factor</th>\n",
       "      <th>Term</th>\n",
       "      <th>NES</th>\n",
       "      <th>P-value</th>\n",
       "      <th>Adj. P-value</th>\n",
       "    </tr>\n",
       "  </thead>\n",
       "  <tbody>\n",
       "    <tr>\n",
       "      <th>102</th>\n",
       "      <td>Factor 4</td>\n",
       "      <td>REACTOME_SIGNALING_BY_TYPE_1_INSULIN_LIKE_GROW...</td>\n",
       "      <td>1.178992</td>\n",
       "      <td>0.002002</td>\n",
       "      <td>0.124791</td>\n",
       "    </tr>\n",
       "    <tr>\n",
       "      <th>204</th>\n",
       "      <td>Factor 7</td>\n",
       "      <td>REACTOME_GPCR_LIGAND_BINDING</td>\n",
       "      <td>1.127057</td>\n",
       "      <td>0.001000</td>\n",
       "      <td>0.124791</td>\n",
       "    </tr>\n",
       "    <tr>\n",
       "      <th>205</th>\n",
       "      <td>Factor 7</td>\n",
       "      <td>REACTOME_SIGNALING_BY_GPCR</td>\n",
       "      <td>1.127057</td>\n",
       "      <td>0.001000</td>\n",
       "      <td>0.124791</td>\n",
       "    </tr>\n",
       "    <tr>\n",
       "      <th>206</th>\n",
       "      <td>Factor 7</td>\n",
       "      <td>REACTOME_CLASS_A_1_RHODOPSIN_LIKE_RECEPTORS</td>\n",
       "      <td>1.115789</td>\n",
       "      <td>0.004004</td>\n",
       "      <td>0.166389</td>\n",
       "    </tr>\n",
       "    <tr>\n",
       "      <th>307</th>\n",
       "      <td>Factor 10</td>\n",
       "      <td>REACTOME_CLASS_A_1_RHODOPSIN_LIKE_RECEPTORS</td>\n",
       "      <td>1.143453</td>\n",
       "      <td>0.003003</td>\n",
       "      <td>0.140390</td>\n",
       "    </tr>\n",
       "    <tr>\n",
       "      <th>308</th>\n",
       "      <td>Factor 10</td>\n",
       "      <td>REACTOME_PEPTIDE_LIGAND_BINDING_RECEPTORS</td>\n",
       "      <td>1.142243</td>\n",
       "      <td>0.002002</td>\n",
       "      <td>0.124791</td>\n",
       "    </tr>\n",
       "    <tr>\n",
       "      <th>309</th>\n",
       "      <td>Factor 10</td>\n",
       "      <td>REACTOME_EXTRACELLULAR_MATRIX_ORGANIZATION</td>\n",
       "      <td>1.123825</td>\n",
       "      <td>0.003003</td>\n",
       "      <td>0.140390</td>\n",
       "    </tr>\n",
       "    <tr>\n",
       "      <th>340</th>\n",
       "      <td>Factor 11</td>\n",
       "      <td>REACTOME_CLASS_A_1_RHODOPSIN_LIKE_RECEPTORS</td>\n",
       "      <td>1.170608</td>\n",
       "      <td>0.002002</td>\n",
       "      <td>0.124791</td>\n",
       "    </tr>\n",
       "    <tr>\n",
       "      <th>341</th>\n",
       "      <td>Factor 11</td>\n",
       "      <td>REACTOME_PEPTIDE_LIGAND_BINDING_RECEPTORS</td>\n",
       "      <td>1.169720</td>\n",
       "      <td>0.002002</td>\n",
       "      <td>0.124791</td>\n",
       "    </tr>\n",
       "  </tbody>\n",
       "</table>\n",
       "</div>"
      ],
      "text/plain": [
       "        Factor                                               Term       NES  \\\n",
       "102   Factor 4  REACTOME_SIGNALING_BY_TYPE_1_INSULIN_LIKE_GROW...  1.178992   \n",
       "204   Factor 7                       REACTOME_GPCR_LIGAND_BINDING  1.127057   \n",
       "205   Factor 7                         REACTOME_SIGNALING_BY_GPCR  1.127057   \n",
       "206   Factor 7        REACTOME_CLASS_A_1_RHODOPSIN_LIKE_RECEPTORS  1.115789   \n",
       "307  Factor 10        REACTOME_CLASS_A_1_RHODOPSIN_LIKE_RECEPTORS  1.143453   \n",
       "308  Factor 10          REACTOME_PEPTIDE_LIGAND_BINDING_RECEPTORS  1.142243   \n",
       "309  Factor 10         REACTOME_EXTRACELLULAR_MATRIX_ORGANIZATION  1.123825   \n",
       "340  Factor 11        REACTOME_CLASS_A_1_RHODOPSIN_LIKE_RECEPTORS  1.170608   \n",
       "341  Factor 11          REACTOME_PEPTIDE_LIGAND_BINDING_RECEPTORS  1.169720   \n",
       "\n",
       "      P-value  Adj. P-value  \n",
       "102  0.002002      0.124791  \n",
       "204  0.001000      0.124791  \n",
       "205  0.001000      0.124791  \n",
       "206  0.004004      0.166389  \n",
       "307  0.003003      0.140390  \n",
       "308  0.002002      0.124791  \n",
       "309  0.003003      0.140390  \n",
       "340  0.002002      0.124791  \n",
       "341  0.002002      0.124791  "
      ]
     },
     "execution_count": 78,
     "metadata": {},
     "output_type": "execute_result"
    }
   ],
   "source": [
    "pval_df.loc[(pval_df['Adj. P-value'] < 0.2) & (pval_df['NES'] > 0.)]"
   ]
  },
  {
   "cell_type": "code",
   "execution_count": 79,
   "metadata": {},
   "outputs": [
    {
     "data": {
      "text/html": [
       "<div>\n",
       "<style scoped>\n",
       "    .dataframe tbody tr th:only-of-type {\n",
       "        vertical-align: middle;\n",
       "    }\n",
       "\n",
       "    .dataframe tbody tr th {\n",
       "        vertical-align: top;\n",
       "    }\n",
       "\n",
       "    .dataframe thead th {\n",
       "        text-align: right;\n",
       "    }\n",
       "</style>\n",
       "<table border=\"1\" class=\"dataframe\">\n",
       "  <thead>\n",
       "    <tr style=\"text-align: right;\">\n",
       "      <th></th>\n",
       "      <th>Factor</th>\n",
       "      <th>Term</th>\n",
       "      <th>NES</th>\n",
       "      <th>P-value</th>\n",
       "      <th>Adj. P-value</th>\n",
       "    </tr>\n",
       "  </thead>\n",
       "  <tbody>\n",
       "  </tbody>\n",
       "</table>\n",
       "</div>"
      ],
      "text/plain": [
       "Empty DataFrame\n",
       "Columns: [Factor, Term, NES, P-value, Adj. P-value]\n",
       "Index: []"
      ]
     },
     "execution_count": 79,
     "metadata": {},
     "output_type": "execute_result"
    }
   ],
   "source": [
    "pval_df.loc[(pval_df['Adj. P-value'] < 0.2) & (pval_df['NES'] < 0.)]"
   ]
  },
  {
   "cell_type": "code",
   "execution_count": 80,
   "metadata": {},
   "outputs": [],
   "source": [
    "pval_pivot = pval_df.pivot(index=\"Term\", columns=\"Factor\", values=\"Adj. P-value\").fillna(1.)\n",
    "scores = pval_df.pivot(index=\"Term\", columns=\"Factor\", values=\"NES\").fillna(0)"
   ]
  },
  {
   "cell_type": "markdown",
   "metadata": {},
   "source": [
    "### Plot"
   ]
  },
  {
   "cell_type": "code",
   "execution_count": 1,
   "metadata": {},
   "outputs": [
    {
     "ename": "NameError",
     "evalue": "name 'sns' is not defined",
     "output_type": "error",
     "traceback": [
      "\u001b[0;31m---------------------------------------------------------------------------\u001b[0m",
      "\u001b[0;31mNameError\u001b[0m                                 Traceback (most recent call last)",
      "Cell \u001b[0;32mIn[1], line 1\u001b[0m\n\u001b[0;32m----> 1\u001b[0m \u001b[38;5;28;01mwith\u001b[39;00m \u001b[43msns\u001b[49m\u001b[38;5;241m.\u001b[39maxes_style(\u001b[38;5;124m\"\u001b[39m\u001b[38;5;124mdarkgrid\u001b[39m\u001b[38;5;124m\"\u001b[39m):\n\u001b[1;32m      2\u001b[0m     dotplot \u001b[38;5;241m=\u001b[39m c2c\u001b[38;5;241m.\u001b[39mplotting\u001b[38;5;241m.\u001b[39mpval_plot\u001b[38;5;241m.\u001b[39mgenerate_dot_plot(pval_df\u001b[38;5;241m=\u001b[39mpval_pivot,\n\u001b[1;32m      3\u001b[0m                                                        score_df\u001b[38;5;241m=\u001b[39mscores,\n\u001b[1;32m      4\u001b[0m                                                        significance\u001b[38;5;241m=\u001b[39msignificance_threshold,\n\u001b[0;32m   (...)\u001b[0m\n\u001b[1;32m     13\u001b[0m                                                        \u001b[38;5;66;03m#filename=output_folder + '/GSEA-Dotplot.svg'\u001b[39;00m\n\u001b[1;32m     14\u001b[0m                                                       )\n\u001b[1;32m     16\u001b[0m plt\u001b[38;5;241m.\u001b[39mshow()\n",
      "\u001b[0;31mNameError\u001b[0m: name 'sns' is not defined"
     ]
    }
   ],
   "source": [
    "with sns.axes_style(\"darkgrid\"):\n",
    "    dotplot = c2c.plotting.pval_plot.generate_dot_plot(pval_df=pval_pivot,\n",
    "                                                       score_df=scores,\n",
    "                                                       significance=significance_threshold,\n",
    "                                                       xlabel='',\n",
    "                                                       ylabel='KEGG Pathways',\n",
    "                                                       cbar_title='NES',\n",
    "                                                       cmap='PuOr',\n",
    "                                                       figsize=(4,6),\n",
    "                                                       label_size=7,\n",
    "                                                       title_size=7,\n",
    "                                                       tick_size=7\n",
    "                                                       #filename=output_folder + '/GSEA-Dotplot.svg'\n",
    "                                                      )\n",
    "\n",
    "plt.show()"
   ]
  },
  {
   "cell_type": "markdown",
   "metadata": {},
   "source": [
    "https://liana-py.readthedocs.io/en/latest/notebooks/liana_c2c.html#Factorization-Results"
   ]
  },
  {
   "cell_type": "code",
   "execution_count": null,
   "metadata": {},
   "outputs": [],
   "source": [
    "dat = fmm.mmread(\"/work/02_data/06_cci/major.mtx\")\n",
    "cellIds = pd.read_csv(\"/work/02_data/06_cci/major.cells\", header = None)\n",
    "genes = pd.read_csv(\"/work/02_data/06_cci/major.genes\", header = None)\n",
    "anno = pd.read_csv(\"/work/02_data/06_cci/major.annotation\", header = None)\n",
    "\n",
    "visit = pd.read_csv(\"/work/02_data/05_velocity/all_cells.visits\", header = None)\n",
    "visit.index = visit[1]\n",
    "visit = visit.reindex(index = cellIds[0])\n",
    "\n",
    "donor = cellIds[0].str.split(\"!!\").apply(lambda x: x[0]).str.replace(\"_poolA|_poolB\", \"\")\n",
    "sample = donor.str.cat(list(visit[0]), sep = \"_\")"
   ]
  },
  {
   "cell_type": "code",
   "execution_count": null,
   "metadata": {},
   "outputs": [],
   "source": [
    "adata = ad.AnnData(X = dat.tocsr())\n",
    "adata.obs_names = cellIds[0]\n",
    "adata.var_names = genes[0]\n",
    "adata.obs[\"anno\"] = pd.Categorical(anno[1])\n",
    "adata.obs[\"visit\"] = pd.Categorical(visit[0])\n",
    "adata.obs[\"donor\"] = pd.Categorical(donor)\n",
    "adata.obs[\"sample\"] = pd.Categorical(sample)\n",
    "adata = adata[~adata.obs[\"anno\"].isin([\"Mast cells\"])]\n",
    "adata"
   ]
  },
  {
   "cell_type": "code",
   "execution_count": null,
   "metadata": {},
   "outputs": [],
   "source": [
    "sample_key = 'sample'\n",
    "groupby = 'anno'\n",
    "condition_key = 'visit'"
   ]
  },
  {
   "cell_type": "markdown",
   "metadata": {},
   "source": [
    "DE"
   ]
  },
  {
   "cell_type": "code",
   "execution_count": null,
   "metadata": {},
   "outputs": [],
   "source": [
    "sc.pp.filter_cells(adata, min_genes=200)\n",
    "sc.pp.filter_genes(adata, min_cells=3)\n",
    "\n",
    "pdata = dc.get_pseudobulk(\n",
    "    adata,\n",
    "    sample_col=sample_key,\n",
    "    groups_col=groupby,\n",
    "    mode='sum',\n",
    "    min_cells=10,\n",
    "    min_counts=10000\n",
    ")\n",
    "\n",
    "pdata = pdata[pdata.obs[\"anno\"] != \"Lymphatic endothelial cells\", :]\n",
    "pdata"
   ]
  },
  {
   "cell_type": "code",
   "execution_count": null,
   "metadata": {},
   "outputs": [],
   "source": [
    "pdata.obs"
   ]
  },
  {
   "cell_type": "code",
   "execution_count": null,
   "metadata": {},
   "outputs": [],
   "source": [
    "%%capture\n",
    "dea_results = {}\n",
    "for cell_group in pdata.obs[groupby].unique():\n",
    "    # Select cell profiles\n",
    "    ctdata = pdata[pdata.obs[groupby] == cell_group].copy()\n",
    "\n",
    "    # Obtain genes that pass the edgeR-like thresholds\n",
    "    # NOTE: QC thresholds might differ between cell types, consider applying them by cell type\n",
    "    genes = dc.filter_by_expr(ctdata,\n",
    "                              group=condition_key,\n",
    "                              min_count=5, # a minimum number of counts in a number of samples\n",
    "                              min_total_count=10 # a minimum total number of reads across samples\n",
    "                              )\n",
    "\n",
    "    # Filter by these genes\n",
    "    ctdata = ctdata[:, genes].copy()\n",
    "\n",
    "    # Build DESeq2 object\n",
    "    # NOTE: this data is actually paired, so one could consider fitting the patient label as a confounder\n",
    "    dds = DeseqDataSet(\n",
    "        adata=ctdata,\n",
    "        design_factors=condition_key,\n",
    "        ref_level=[condition_key, 'visit1'], # set control as reference\n",
    "        refit_cooks=True,\n",
    "        n_cpus=32, # Modified !!!\n",
    "    )\n",
    "\n",
    "    # Compute LFCs\n",
    "    dds.deseq2()\n",
    "    # Contrast between stim and ctrl\n",
    "    stat_res = DeseqStats(dds, contrast=[condition_key, 'visit3', 'visit1'], n_cpus=32)\n",
    "    # Compute Wald test\n",
    "    stat_res.summary()\n",
    "    # Shrink LFCs\n",
    "    stat_res.lfc_shrink(coeff='visit_visit3_vs_visit1') # {condition_key}_cond_vs_ref\n",
    "\n",
    "    dea_results[cell_group] = stat_res.results_df"
   ]
  },
  {
   "cell_type": "code",
   "execution_count": null,
   "metadata": {},
   "outputs": [],
   "source": [
    "# concat results across cell types\n",
    "dea_df = pd.concat(dea_results)\n",
    "dea_df = dea_df.reset_index(level = 0).rename(columns={\"level_0\": groupby})\n",
    "dea_df"
   ]
  },
  {
   "cell_type": "markdown",
   "metadata": {},
   "source": [
    "## Figure 7a"
   ]
  },
  {
   "cell_type": "markdown",
   "metadata": {},
   "source": [
    "### Visit 1"
   ]
  },
  {
   "cell_type": "code",
   "execution_count": 61,
   "metadata": {},
   "outputs": [
    {
     "data": {
      "text/html": [
       "<div>\n",
       "<style scoped>\n",
       "    .dataframe tbody tr th:only-of-type {\n",
       "        vertical-align: middle;\n",
       "    }\n",
       "\n",
       "    .dataframe tbody tr th {\n",
       "        vertical-align: top;\n",
       "    }\n",
       "\n",
       "    .dataframe thead th {\n",
       "        text-align: right;\n",
       "    }\n",
       "</style>\n",
       "<table border=\"1\" class=\"dataframe\">\n",
       "  <thead>\n",
       "    <tr style=\"text-align: right;\">\n",
       "      <th></th>\n",
       "      <th>anno</th>\n",
       "      <th>visit</th>\n",
       "      <th>donor</th>\n",
       "      <th>sample</th>\n",
       "    </tr>\n",
       "  </thead>\n",
       "  <tbody>\n",
       "    <tr>\n",
       "      <th>Donor_02!!9984!!AATTTCCTCGTTCTAT-1</th>\n",
       "      <td>Adipocytes</td>\n",
       "      <td>visit1</td>\n",
       "      <td>Donor_02</td>\n",
       "      <td>Donor_02_visit1</td>\n",
       "    </tr>\n",
       "    <tr>\n",
       "      <th>Donor_02!!9984!!TCGACCTCAGTATTCG-1</th>\n",
       "      <td>Adipocytes</td>\n",
       "      <td>visit1</td>\n",
       "      <td>Donor_02</td>\n",
       "      <td>Donor_02_visit1</td>\n",
       "    </tr>\n",
       "    <tr>\n",
       "      <th>Donor_02!!9984!!TTATTGCGTTCTCCAC-1</th>\n",
       "      <td>Adipocytes</td>\n",
       "      <td>visit1</td>\n",
       "      <td>Donor_02</td>\n",
       "      <td>Donor_02_visit1</td>\n",
       "    </tr>\n",
       "    <tr>\n",
       "      <th>Donor_02!!9984!!AACAACCCATTCTGTT-1</th>\n",
       "      <td>Myeloid immune cells</td>\n",
       "      <td>visit1</td>\n",
       "      <td>Donor_02</td>\n",
       "      <td>Donor_02_visit1</td>\n",
       "    </tr>\n",
       "    <tr>\n",
       "      <th>Donor_02!!9984!!AGATAGAGTTGCATGT-1</th>\n",
       "      <td>Adipocytes</td>\n",
       "      <td>visit1</td>\n",
       "      <td>Donor_02</td>\n",
       "      <td>Donor_02_visit1</td>\n",
       "    </tr>\n",
       "    <tr>\n",
       "      <th>...</th>\n",
       "      <td>...</td>\n",
       "      <td>...</td>\n",
       "      <td>...</td>\n",
       "      <td>...</td>\n",
       "    </tr>\n",
       "    <tr>\n",
       "      <th>Donor_88!!9979!!ATCACGACATCGTGCG-1</th>\n",
       "      <td>EC</td>\n",
       "      <td>visit1</td>\n",
       "      <td>Donor_88</td>\n",
       "      <td>Donor_88_visit1</td>\n",
       "    </tr>\n",
       "    <tr>\n",
       "      <th>Donor_88!!9979!!TCGGATAGTTTACGAC-1</th>\n",
       "      <td>EC</td>\n",
       "      <td>visit1</td>\n",
       "      <td>Donor_88</td>\n",
       "      <td>Donor_88_visit1</td>\n",
       "    </tr>\n",
       "    <tr>\n",
       "      <th>Donor_88!!9979!!GAGTTTGCACTAACCA-1</th>\n",
       "      <td>Myeloid immune cells</td>\n",
       "      <td>visit1</td>\n",
       "      <td>Donor_88</td>\n",
       "      <td>Donor_88_visit1</td>\n",
       "    </tr>\n",
       "    <tr>\n",
       "      <th>Donor_88!!9979!!ACTATTCTCAACTCTT-1</th>\n",
       "      <td>Myeloid immune cells</td>\n",
       "      <td>visit1</td>\n",
       "      <td>Donor_88</td>\n",
       "      <td>Donor_88_visit1</td>\n",
       "    </tr>\n",
       "    <tr>\n",
       "      <th>Donor_88!!9979!!CCGGACAGTTGGTGTT-1</th>\n",
       "      <td>Myeloid immune cells</td>\n",
       "      <td>visit1</td>\n",
       "      <td>Donor_88</td>\n",
       "      <td>Donor_88_visit1</td>\n",
       "    </tr>\n",
       "  </tbody>\n",
       "</table>\n",
       "<p>28022 rows × 4 columns</p>\n",
       "</div>"
      ],
      "text/plain": [
       "                                                    anno   visit     donor  \\\n",
       "Donor_02!!9984!!AATTTCCTCGTTCTAT-1            Adipocytes  visit1  Donor_02   \n",
       "Donor_02!!9984!!TCGACCTCAGTATTCG-1            Adipocytes  visit1  Donor_02   \n",
       "Donor_02!!9984!!TTATTGCGTTCTCCAC-1            Adipocytes  visit1  Donor_02   \n",
       "Donor_02!!9984!!AACAACCCATTCTGTT-1  Myeloid immune cells  visit1  Donor_02   \n",
       "Donor_02!!9984!!AGATAGAGTTGCATGT-1            Adipocytes  visit1  Donor_02   \n",
       "...                                                  ...     ...       ...   \n",
       "Donor_88!!9979!!ATCACGACATCGTGCG-1                    EC  visit1  Donor_88   \n",
       "Donor_88!!9979!!TCGGATAGTTTACGAC-1                    EC  visit1  Donor_88   \n",
       "Donor_88!!9979!!GAGTTTGCACTAACCA-1  Myeloid immune cells  visit1  Donor_88   \n",
       "Donor_88!!9979!!ACTATTCTCAACTCTT-1  Myeloid immune cells  visit1  Donor_88   \n",
       "Donor_88!!9979!!CCGGACAGTTGGTGTT-1  Myeloid immune cells  visit1  Donor_88   \n",
       "\n",
       "                                             sample  \n",
       "Donor_02!!9984!!AATTTCCTCGTTCTAT-1  Donor_02_visit1  \n",
       "Donor_02!!9984!!TCGACCTCAGTATTCG-1  Donor_02_visit1  \n",
       "Donor_02!!9984!!TTATTGCGTTCTCCAC-1  Donor_02_visit1  \n",
       "Donor_02!!9984!!AACAACCCATTCTGTT-1  Donor_02_visit1  \n",
       "Donor_02!!9984!!AGATAGAGTTGCATGT-1  Donor_02_visit1  \n",
       "...                                             ...  \n",
       "Donor_88!!9979!!ATCACGACATCGTGCG-1  Donor_88_visit1  \n",
       "Donor_88!!9979!!TCGGATAGTTTACGAC-1  Donor_88_visit1  \n",
       "Donor_88!!9979!!GAGTTTGCACTAACCA-1  Donor_88_visit1  \n",
       "Donor_88!!9979!!ACTATTCTCAACTCTT-1  Donor_88_visit1  \n",
       "Donor_88!!9979!!CCGGACAGTTGGTGTT-1  Donor_88_visit1  \n",
       "\n",
       "[28022 rows x 4 columns]"
      ]
     },
     "execution_count": 61,
     "metadata": {},
     "output_type": "execute_result"
    }
   ],
   "source": [
    "adatacp = adata[adata.obs[\"visit\"]=='visit1'].copy()\n",
    "adatacp.obs"
   ]
  },
  {
   "cell_type": "code",
   "execution_count": 62,
   "metadata": {},
   "outputs": [],
   "source": [
    "lr_pairs = li.resource.select_resource('consensus')\n",
    "lr_pairs = lr_pairs.astype(str)"
   ]
  },
  {
   "cell_type": "code",
   "execution_count": 9,
   "metadata": {},
   "outputs": [
    {
     "data": {
      "text/html": [
       "<div>\n",
       "<style scoped>\n",
       "    .dataframe tbody tr th:only-of-type {\n",
       "        vertical-align: middle;\n",
       "    }\n",
       "\n",
       "    .dataframe tbody tr th {\n",
       "        vertical-align: top;\n",
       "    }\n",
       "\n",
       "    .dataframe thead th {\n",
       "        text-align: right;\n",
       "    }\n",
       "</style>\n",
       "<table border=\"1\" class=\"dataframe\">\n",
       "  <thead>\n",
       "    <tr style=\"text-align: right;\">\n",
       "      <th></th>\n",
       "      <th>ligand</th>\n",
       "      <th>receptor</th>\n",
       "    </tr>\n",
       "  </thead>\n",
       "  <tbody>\n",
       "    <tr>\n",
       "      <th>0</th>\n",
       "      <td>LGALS9</td>\n",
       "      <td>PTPRC</td>\n",
       "    </tr>\n",
       "    <tr>\n",
       "      <th>1</th>\n",
       "      <td>LGALS9</td>\n",
       "      <td>MET</td>\n",
       "    </tr>\n",
       "    <tr>\n",
       "      <th>2</th>\n",
       "      <td>LGALS9</td>\n",
       "      <td>CD44</td>\n",
       "    </tr>\n",
       "    <tr>\n",
       "      <th>3</th>\n",
       "      <td>LGALS9</td>\n",
       "      <td>LRP1</td>\n",
       "    </tr>\n",
       "    <tr>\n",
       "      <th>4</th>\n",
       "      <td>LGALS9</td>\n",
       "      <td>CD47</td>\n",
       "    </tr>\n",
       "    <tr>\n",
       "      <th>...</th>\n",
       "      <td>...</td>\n",
       "      <td>...</td>\n",
       "    </tr>\n",
       "    <tr>\n",
       "      <th>4619</th>\n",
       "      <td>BMP2</td>\n",
       "      <td>ACTR2</td>\n",
       "    </tr>\n",
       "    <tr>\n",
       "      <th>4620</th>\n",
       "      <td>BMP15</td>\n",
       "      <td>ACTR2</td>\n",
       "    </tr>\n",
       "    <tr>\n",
       "      <th>4621</th>\n",
       "      <td>CSF1</td>\n",
       "      <td>CSF3R</td>\n",
       "    </tr>\n",
       "    <tr>\n",
       "      <th>4622</th>\n",
       "      <td>IL36G</td>\n",
       "      <td>IFNAR1</td>\n",
       "    </tr>\n",
       "    <tr>\n",
       "      <th>4623</th>\n",
       "      <td>IL36G</td>\n",
       "      <td>IFNAR2</td>\n",
       "    </tr>\n",
       "  </tbody>\n",
       "</table>\n",
       "<p>4624 rows × 2 columns</p>\n",
       "</div>"
      ],
      "text/plain": [
       "      ligand receptor\n",
       "0     LGALS9    PTPRC\n",
       "1     LGALS9      MET\n",
       "2     LGALS9     CD44\n",
       "3     LGALS9     LRP1\n",
       "4     LGALS9     CD47\n",
       "...      ...      ...\n",
       "4619    BMP2    ACTR2\n",
       "4620   BMP15    ACTR2\n",
       "4621    CSF1    CSF3R\n",
       "4622   IL36G   IFNAR1\n",
       "4623   IL36G   IFNAR2\n",
       "\n",
       "[4624 rows x 2 columns]"
      ]
     },
     "execution_count": 9,
     "metadata": {},
     "output_type": "execute_result"
    }
   ],
   "source": [
    "lr_pairs"
   ]
  },
  {
   "cell_type": "code",
   "execution_count": 63,
   "metadata": {},
   "outputs": [
    {
     "data": {
      "text/html": [
       "<div>\n",
       "<style scoped>\n",
       "    .dataframe tbody tr th:only-of-type {\n",
       "        vertical-align: middle;\n",
       "    }\n",
       "\n",
       "    .dataframe tbody tr th {\n",
       "        vertical-align: top;\n",
       "    }\n",
       "\n",
       "    .dataframe thead th {\n",
       "        text-align: right;\n",
       "    }\n",
       "</style>\n",
       "<table border=\"1\" class=\"dataframe\">\n",
       "  <thead>\n",
       "    <tr style=\"text-align: right;\">\n",
       "      <th></th>\n",
       "      <th>anno</th>\n",
       "      <th>visit</th>\n",
       "      <th>donor</th>\n",
       "      <th>barcode</th>\n",
       "    </tr>\n",
       "  </thead>\n",
       "  <tbody>\n",
       "    <tr>\n",
       "      <th>Donor_02!!9984!!AATTTCCTCGTTCTAT-1</th>\n",
       "      <td>Adipocytes</td>\n",
       "      <td>visit1</td>\n",
       "      <td>Donor_02</td>\n",
       "      <td>Donor_02!!9984!!AATTTCCTCGTTCTAT-1</td>\n",
       "    </tr>\n",
       "    <tr>\n",
       "      <th>Donor_02!!9984!!TCGACCTCAGTATTCG-1</th>\n",
       "      <td>Adipocytes</td>\n",
       "      <td>visit1</td>\n",
       "      <td>Donor_02</td>\n",
       "      <td>Donor_02!!9984!!TCGACCTCAGTATTCG-1</td>\n",
       "    </tr>\n",
       "    <tr>\n",
       "      <th>Donor_02!!9984!!TTATTGCGTTCTCCAC-1</th>\n",
       "      <td>Adipocytes</td>\n",
       "      <td>visit1</td>\n",
       "      <td>Donor_02</td>\n",
       "      <td>Donor_02!!9984!!TTATTGCGTTCTCCAC-1</td>\n",
       "    </tr>\n",
       "    <tr>\n",
       "      <th>Donor_02!!9984!!AACAACCCATTCTGTT-1</th>\n",
       "      <td>Myeloid immune cells</td>\n",
       "      <td>visit1</td>\n",
       "      <td>Donor_02</td>\n",
       "      <td>Donor_02!!9984!!AACAACCCATTCTGTT-1</td>\n",
       "    </tr>\n",
       "    <tr>\n",
       "      <th>Donor_02!!9984!!AGATAGAGTTGCATGT-1</th>\n",
       "      <td>Adipocytes</td>\n",
       "      <td>visit1</td>\n",
       "      <td>Donor_02</td>\n",
       "      <td>Donor_02!!9984!!AGATAGAGTTGCATGT-1</td>\n",
       "    </tr>\n",
       "    <tr>\n",
       "      <th>...</th>\n",
       "      <td>...</td>\n",
       "      <td>...</td>\n",
       "      <td>...</td>\n",
       "      <td>...</td>\n",
       "    </tr>\n",
       "    <tr>\n",
       "      <th>Donor_88!!9979!!ATCACGACATCGTGCG-1</th>\n",
       "      <td>EC</td>\n",
       "      <td>visit1</td>\n",
       "      <td>Donor_88</td>\n",
       "      <td>Donor_88!!9979!!ATCACGACATCGTGCG-1</td>\n",
       "    </tr>\n",
       "    <tr>\n",
       "      <th>Donor_88!!9979!!TCGGATAGTTTACGAC-1</th>\n",
       "      <td>EC</td>\n",
       "      <td>visit1</td>\n",
       "      <td>Donor_88</td>\n",
       "      <td>Donor_88!!9979!!TCGGATAGTTTACGAC-1</td>\n",
       "    </tr>\n",
       "    <tr>\n",
       "      <th>Donor_88!!9979!!GAGTTTGCACTAACCA-1</th>\n",
       "      <td>Myeloid immune cells</td>\n",
       "      <td>visit1</td>\n",
       "      <td>Donor_88</td>\n",
       "      <td>Donor_88!!9979!!GAGTTTGCACTAACCA-1</td>\n",
       "    </tr>\n",
       "    <tr>\n",
       "      <th>Donor_88!!9979!!ACTATTCTCAACTCTT-1</th>\n",
       "      <td>Myeloid immune cells</td>\n",
       "      <td>visit1</td>\n",
       "      <td>Donor_88</td>\n",
       "      <td>Donor_88!!9979!!ACTATTCTCAACTCTT-1</td>\n",
       "    </tr>\n",
       "    <tr>\n",
       "      <th>Donor_88!!9979!!CCGGACAGTTGGTGTT-1</th>\n",
       "      <td>Myeloid immune cells</td>\n",
       "      <td>visit1</td>\n",
       "      <td>Donor_88</td>\n",
       "      <td>Donor_88!!9979!!CCGGACAGTTGGTGTT-1</td>\n",
       "    </tr>\n",
       "  </tbody>\n",
       "</table>\n",
       "<p>28022 rows × 4 columns</p>\n",
       "</div>"
      ],
      "text/plain": [
       "                                                    anno   visit     donor  \\\n",
       "Donor_02!!9984!!AATTTCCTCGTTCTAT-1            Adipocytes  visit1  Donor_02   \n",
       "Donor_02!!9984!!TCGACCTCAGTATTCG-1            Adipocytes  visit1  Donor_02   \n",
       "Donor_02!!9984!!TTATTGCGTTCTCCAC-1            Adipocytes  visit1  Donor_02   \n",
       "Donor_02!!9984!!AACAACCCATTCTGTT-1  Myeloid immune cells  visit1  Donor_02   \n",
       "Donor_02!!9984!!AGATAGAGTTGCATGT-1            Adipocytes  visit1  Donor_02   \n",
       "...                                                  ...     ...       ...   \n",
       "Donor_88!!9979!!ATCACGACATCGTGCG-1                    EC  visit1  Donor_88   \n",
       "Donor_88!!9979!!TCGGATAGTTTACGAC-1                    EC  visit1  Donor_88   \n",
       "Donor_88!!9979!!GAGTTTGCACTAACCA-1  Myeloid immune cells  visit1  Donor_88   \n",
       "Donor_88!!9979!!ACTATTCTCAACTCTT-1  Myeloid immune cells  visit1  Donor_88   \n",
       "Donor_88!!9979!!CCGGACAGTTGGTGTT-1  Myeloid immune cells  visit1  Donor_88   \n",
       "\n",
       "                                                               barcode  \n",
       "Donor_02!!9984!!AATTTCCTCGTTCTAT-1  Donor_02!!9984!!AATTTCCTCGTTCTAT-1  \n",
       "Donor_02!!9984!!TCGACCTCAGTATTCG-1  Donor_02!!9984!!TCGACCTCAGTATTCG-1  \n",
       "Donor_02!!9984!!TTATTGCGTTCTCCAC-1  Donor_02!!9984!!TTATTGCGTTCTCCAC-1  \n",
       "Donor_02!!9984!!AACAACCCATTCTGTT-1  Donor_02!!9984!!AACAACCCATTCTGTT-1  \n",
       "Donor_02!!9984!!AGATAGAGTTGCATGT-1  Donor_02!!9984!!AGATAGAGTTGCATGT-1  \n",
       "...                                                                ...  \n",
       "Donor_88!!9979!!ATCACGACATCGTGCG-1  Donor_88!!9979!!ATCACGACATCGTGCG-1  \n",
       "Donor_88!!9979!!TCGGATAGTTTACGAC-1  Donor_88!!9979!!TCGGATAGTTTACGAC-1  \n",
       "Donor_88!!9979!!GAGTTTGCACTAACCA-1  Donor_88!!9979!!GAGTTTGCACTAACCA-1  \n",
       "Donor_88!!9979!!ACTATTCTCAACTCTT-1  Donor_88!!9979!!ACTATTCTCAACTCTT-1  \n",
       "Donor_88!!9979!!CCGGACAGTTGGTGTT-1  Donor_88!!9979!!CCGGACAGTTGGTGTT-1  \n",
       "\n",
       "[28022 rows x 4 columns]"
      ]
     },
     "execution_count": 63,
     "metadata": {},
     "output_type": "execute_result"
    }
   ],
   "source": [
    "meta = adatacp.obs.copy()\n",
    "meta[\"barcode\"] = meta.index\n",
    "meta = meta.drop(\"sample\", 1)\n",
    "meta"
   ]
  },
  {
   "cell_type": "code",
   "execution_count": 64,
   "metadata": {},
   "outputs": [],
   "source": [
    "interactions = c2c.analysis.SingleCellInteractions(rnaseq_data=adatacp.to_df().T,\n",
    "                                                   ppi_data=lr_pairs,\n",
    "                                                   metadata=meta,\n",
    "                                                   interaction_columns=('ligand', 'receptor'),\n",
    "                                                   communication_score='expression_thresholding',\n",
    "                                                   expression_threshold=0.2, # values after aggregation\n",
    "                                                   cci_score='bray_curtis',\n",
    "                                                   cci_type='undirected',\n",
    "                                                   aggregation_method='nn_cell_fraction',\n",
    "                                                   barcode_col='barcode',\n",
    "                                                   celltype_col='anno',\n",
    "                                                   complex_sep='&',\n",
    "                                                   verbose=False)"
   ]
  },
  {
   "cell_type": "code",
   "execution_count": 65,
   "metadata": {},
   "outputs": [
    {
     "name": "stdout",
     "output_type": "stream",
     "text": [
      "Computing pairwise communication\n",
      "Computing communication score between EC and Adipocytes\n",
      "Computing communication score between EC and ASPCs\n",
      "Computing communication score between Adipocytes and Myeloid immune cells\n",
      "Computing communication score between Adipocytes and Pericytes\n",
      "Computing communication score between SMCs and Lymphoid immune cells\n",
      "Computing communication score between SMCs and EC\n",
      "Computing communication score between EC and SMCs\n",
      "Computing communication score between Lymphoid immune cells and Myeloid immune cells\n",
      "Computing communication score between Lymphoid immune cells and Pericytes\n",
      "Computing communication score between Myeloid immune cells and Adipocytes\n",
      "Computing communication score between ASPCs and Myeloid immune cells\n",
      "Computing communication score between ASPCs and Pericytes\n",
      "Computing communication score between Myeloid immune cells and ASPCs\n",
      "Computing communication score between EC and Lymphoid immune cells\n",
      "Computing communication score between EC and EC\n",
      "Computing communication score between Myeloid immune cells and SMCs\n",
      "Computing communication score between SMCs and Myeloid immune cells\n",
      "Computing communication score between SMCs and Pericytes\n",
      "Computing communication score between Pericytes and Adipocytes\n",
      "Computing communication score between Pericytes and ASPCs\n",
      "Computing communication score between Myeloid immune cells and Lymphoid immune cells\n",
      "Computing communication score between Myeloid immune cells and EC\n",
      "Computing communication score between Adipocytes and Adipocytes\n",
      "Computing communication score between Lymphoid immune cells and Adipocytes\n",
      "Computing communication score between Pericytes and SMCs\n",
      "Computing communication score between EC and Myeloid immune cells\n",
      "Computing communication score between ASPCs and Adipocytes\n",
      "Computing communication score between Adipocytes and ASPCs\n",
      "Computing communication score between EC and Pericytes\n",
      "Computing communication score between Lymphoid immune cells and ASPCs\n",
      "Computing communication score between SMCs and SMCs\n",
      "Computing communication score between Pericytes and Lymphoid immune cells\n",
      "Computing communication score between ASPCs and ASPCs\n",
      "Computing communication score between Pericytes and EC\n",
      "Computing communication score between Adipocytes and SMCs\n",
      "Computing communication score between Lymphoid immune cells and SMCs\n",
      "Computing communication score between Adipocytes and Lymphoid immune cells\n",
      "Computing communication score between Myeloid immune cells and Myeloid immune cells\n",
      "Computing communication score between Myeloid immune cells and Pericytes\n",
      "Computing communication score between ASPCs and SMCs\n",
      "Computing communication score between Adipocytes and EC\n",
      "Computing communication score between Lymphoid immune cells and Lymphoid immune cells\n",
      "Computing communication score between SMCs and Adipocytes\n",
      "Computing communication score between ASPCs and Lymphoid immune cells\n",
      "Computing communication score between SMCs and ASPCs\n",
      "Computing communication score between Lymphoid immune cells and EC\n",
      "Computing communication score between ASPCs and EC\n",
      "Computing communication score between Pericytes and Myeloid immune cells\n",
      "Computing communication score between Pericytes and Pericytes\n"
     ]
    }
   ],
   "source": [
    "interactions.compute_pairwise_communication_scores()"
   ]
  },
  {
   "cell_type": "code",
   "execution_count": 66,
   "metadata": {},
   "outputs": [
    {
     "name": "stdout",
     "output_type": "stream",
     "text": [
      "Computing pairwise interactions\n",
      "Computing interaction score between Adipocytes and Myeloid immune cells\n",
      "Computing interaction score between Adipocytes and Pericytes\n",
      "Computing interaction score between EC and SMCs\n",
      "Computing interaction score between Lymphoid immune cells and Myeloid immune cells\n",
      "Computing interaction score between Lymphoid immune cells and Pericytes\n",
      "Computing interaction score between ASPCs and Myeloid immune cells\n",
      "Computing interaction score between ASPCs and Pericytes\n",
      "Computing interaction score between EC and Lymphoid immune cells\n",
      "Computing interaction score between EC and EC\n",
      "Computing interaction score between Myeloid immune cells and SMCs\n",
      "Computing interaction score between Adipocytes and Adipocytes\n",
      "Computing interaction score between Pericytes and SMCs\n",
      "Computing interaction score between EC and Myeloid immune cells\n",
      "Computing interaction score between ASPCs and Adipocytes\n",
      "Computing interaction score between EC and Pericytes\n",
      "Computing interaction score between SMCs and SMCs\n",
      "Computing interaction score between ASPCs and ASPCs\n",
      "Computing interaction score between Adipocytes and SMCs\n",
      "Computing interaction score between Lymphoid immune cells and SMCs\n",
      "Computing interaction score between Adipocytes and Lymphoid immune cells\n",
      "Computing interaction score between Myeloid immune cells and Pericytes\n",
      "Computing interaction score between Myeloid immune cells and Myeloid immune cells\n",
      "Computing interaction score between ASPCs and SMCs\n",
      "Computing interaction score between Adipocytes and EC\n",
      "Computing interaction score between Lymphoid immune cells and Lymphoid immune cells\n",
      "Computing interaction score between ASPCs and Lymphoid immune cells\n",
      "Computing interaction score between ASPCs and EC\n",
      "Computing interaction score between Pericytes and Pericytes\n"
     ]
    }
   ],
   "source": [
    "interactions.compute_pairwise_cci_scores()"
   ]
  },
  {
   "cell_type": "code",
   "execution_count": 67,
   "metadata": {},
   "outputs": [
    {
     "name": "stderr",
     "output_type": "stream",
     "text": [
      "100%|██████████| 10/10 [00:37<00:00,  3.71s/it]\n"
     ]
    }
   ],
   "source": [
    "cci_pvals = interactions.permute_cell_labels(evaluation='interactions', \n",
    "                                             permutations=10, \n",
    "                                             fdr_correction=False,\n",
    "                                             verbose=True)"
   ]
  },
  {
   "cell_type": "code",
   "execution_count": 68,
   "metadata": {},
   "outputs": [
    {
     "data": {
      "text/html": [
       "<div>\n",
       "<style scoped>\n",
       "    .dataframe tbody tr th:only-of-type {\n",
       "        vertical-align: middle;\n",
       "    }\n",
       "\n",
       "    .dataframe tbody tr th {\n",
       "        vertical-align: top;\n",
       "    }\n",
       "\n",
       "    .dataframe thead th {\n",
       "        text-align: right;\n",
       "    }\n",
       "</style>\n",
       "<table border=\"1\" class=\"dataframe\">\n",
       "  <thead>\n",
       "    <tr style=\"text-align: right;\">\n",
       "      <th></th>\n",
       "      <th>ASPCs</th>\n",
       "      <th>Adipocytes</th>\n",
       "      <th>EC</th>\n",
       "      <th>Lymphoid immune cells</th>\n",
       "      <th>Myeloid immune cells</th>\n",
       "      <th>Pericytes</th>\n",
       "      <th>SMCs</th>\n",
       "    </tr>\n",
       "  </thead>\n",
       "  <tbody>\n",
       "    <tr>\n",
       "      <th>ASPCs</th>\n",
       "      <td>-4.440892e-16</td>\n",
       "      <td>-4.440892e-16</td>\n",
       "      <td>0.181818</td>\n",
       "      <td>0.181818</td>\n",
       "      <td>0.181818</td>\n",
       "      <td>0.363636</td>\n",
       "      <td>0.727273</td>\n",
       "    </tr>\n",
       "    <tr>\n",
       "      <th>Adipocytes</th>\n",
       "      <td>-4.440892e-16</td>\n",
       "      <td>9.090909e-01</td>\n",
       "      <td>0.363636</td>\n",
       "      <td>0.181818</td>\n",
       "      <td>0.181818</td>\n",
       "      <td>0.181818</td>\n",
       "      <td>0.181818</td>\n",
       "    </tr>\n",
       "    <tr>\n",
       "      <th>EC</th>\n",
       "      <td>1.818182e-01</td>\n",
       "      <td>3.636364e-01</td>\n",
       "      <td>0.181818</td>\n",
       "      <td>0.181818</td>\n",
       "      <td>0.181818</td>\n",
       "      <td>0.181818</td>\n",
       "      <td>0.181818</td>\n",
       "    </tr>\n",
       "    <tr>\n",
       "      <th>Lymphoid immune cells</th>\n",
       "      <td>1.818182e-01</td>\n",
       "      <td>1.818182e-01</td>\n",
       "      <td>0.181818</td>\n",
       "      <td>0.181818</td>\n",
       "      <td>0.181818</td>\n",
       "      <td>0.181818</td>\n",
       "      <td>0.181818</td>\n",
       "    </tr>\n",
       "    <tr>\n",
       "      <th>Myeloid immune cells</th>\n",
       "      <td>1.818182e-01</td>\n",
       "      <td>1.818182e-01</td>\n",
       "      <td>0.181818</td>\n",
       "      <td>0.181818</td>\n",
       "      <td>0.181818</td>\n",
       "      <td>0.181818</td>\n",
       "      <td>0.181818</td>\n",
       "    </tr>\n",
       "    <tr>\n",
       "      <th>Pericytes</th>\n",
       "      <td>3.636364e-01</td>\n",
       "      <td>1.818182e-01</td>\n",
       "      <td>0.181818</td>\n",
       "      <td>0.181818</td>\n",
       "      <td>0.181818</td>\n",
       "      <td>0.181818</td>\n",
       "      <td>0.181818</td>\n",
       "    </tr>\n",
       "    <tr>\n",
       "      <th>SMCs</th>\n",
       "      <td>7.272727e-01</td>\n",
       "      <td>1.818182e-01</td>\n",
       "      <td>0.181818</td>\n",
       "      <td>0.181818</td>\n",
       "      <td>0.181818</td>\n",
       "      <td>0.181818</td>\n",
       "      <td>0.181818</td>\n",
       "    </tr>\n",
       "  </tbody>\n",
       "</table>\n",
       "</div>"
      ],
      "text/plain": [
       "                              ASPCs    Adipocytes        EC  \\\n",
       "ASPCs                 -4.440892e-16 -4.440892e-16  0.181818   \n",
       "Adipocytes            -4.440892e-16  9.090909e-01  0.363636   \n",
       "EC                     1.818182e-01  3.636364e-01  0.181818   \n",
       "Lymphoid immune cells  1.818182e-01  1.818182e-01  0.181818   \n",
       "Myeloid immune cells   1.818182e-01  1.818182e-01  0.181818   \n",
       "Pericytes              3.636364e-01  1.818182e-01  0.181818   \n",
       "SMCs                   7.272727e-01  1.818182e-01  0.181818   \n",
       "\n",
       "                       Lymphoid immune cells  Myeloid immune cells  Pericytes  \\\n",
       "ASPCs                               0.181818              0.181818   0.363636   \n",
       "Adipocytes                          0.181818              0.181818   0.181818   \n",
       "EC                                  0.181818              0.181818   0.181818   \n",
       "Lymphoid immune cells               0.181818              0.181818   0.181818   \n",
       "Myeloid immune cells                0.181818              0.181818   0.181818   \n",
       "Pericytes                           0.181818              0.181818   0.181818   \n",
       "SMCs                                0.181818              0.181818   0.181818   \n",
       "\n",
       "                           SMCs  \n",
       "ASPCs                  0.727273  \n",
       "Adipocytes             0.181818  \n",
       "EC                     0.181818  \n",
       "Lymphoid immune cells  0.181818  \n",
       "Myeloid immune cells   0.181818  \n",
       "Pericytes              0.181818  \n",
       "SMCs                   0.181818  "
      ]
     },
     "execution_count": 68,
     "metadata": {},
     "output_type": "execute_result"
    }
   ],
   "source": [
    "cci_pvals"
   ]
  },
  {
   "cell_type": "code",
   "execution_count": 69,
   "metadata": {},
   "outputs": [
    {
     "name": "stdout",
     "output_type": "stream",
     "text": [
      "Interaction space detected as a Interactions class\n"
     ]
    },
    {
     "data": {
      "image/png": "[encoded data removed]",
      "text/plain": [
       "<Figure size 1000x1000 with 4 Axes>"
      ]
     },
     "metadata": {},
     "output_type": "display_data"
    }
   ],
   "source": [
    "c2c.plotting.clustermap_cci(interactions, vmin = 0.1, vmax = 0.2)\n",
    "plt.savefig(fname = \"6A-visit1_CCI.pdf\")\n",
    "#plt.show()"
   ]
  },
  {
   "cell_type": "code",
   "execution_count": 70,
   "metadata": {},
   "outputs": [],
   "source": [
    "interactions.interaction_elements[\"cci_matrix\"].to_csv(\"/work/02_data/00_prints/6A-visit1_CCI.tsv\", sep = \"\\t\")"
   ]
  },
  {
   "cell_type": "markdown",
   "metadata": {},
   "source": [
    "### Visit 3"
   ]
  },
  {
   "cell_type": "code",
   "execution_count": 71,
   "metadata": {},
   "outputs": [
    {
     "data": {
      "text/html": [
       "<div>\n",
       "<style scoped>\n",
       "    .dataframe tbody tr th:only-of-type {\n",
       "        vertical-align: middle;\n",
       "    }\n",
       "\n",
       "    .dataframe tbody tr th {\n",
       "        vertical-align: top;\n",
       "    }\n",
       "\n",
       "    .dataframe thead th {\n",
       "        text-align: right;\n",
       "    }\n",
       "</style>\n",
       "<table border=\"1\" class=\"dataframe\">\n",
       "  <thead>\n",
       "    <tr style=\"text-align: right;\">\n",
       "      <th></th>\n",
       "      <th>anno</th>\n",
       "      <th>visit</th>\n",
       "      <th>donor</th>\n",
       "      <th>sample</th>\n",
       "    </tr>\n",
       "  </thead>\n",
       "  <tbody>\n",
       "    <tr>\n",
       "      <th>Donor_02!!C748!!GCCAGTGAGCCTCTCT-1</th>\n",
       "      <td>EC</td>\n",
       "      <td>visit3</td>\n",
       "      <td>Donor_02</td>\n",
       "      <td>Donor_02_visit3</td>\n",
       "    </tr>\n",
       "    <tr>\n",
       "      <th>Donor_02!!C748!!AATAGAGTCCTCTTTC-1</th>\n",
       "      <td>EC</td>\n",
       "      <td>visit3</td>\n",
       "      <td>Donor_02</td>\n",
       "      <td>Donor_02_visit3</td>\n",
       "    </tr>\n",
       "    <tr>\n",
       "      <th>Donor_02!!C748!!AAGACAAAGACTTAAG-1</th>\n",
       "      <td>Adipocytes</td>\n",
       "      <td>visit3</td>\n",
       "      <td>Donor_02</td>\n",
       "      <td>Donor_02_visit3</td>\n",
       "    </tr>\n",
       "    <tr>\n",
       "      <th>Donor_02!!C748!!CGAATTGAGACCATGG-1</th>\n",
       "      <td>Adipocytes</td>\n",
       "      <td>visit3</td>\n",
       "      <td>Donor_02</td>\n",
       "      <td>Donor_02_visit3</td>\n",
       "    </tr>\n",
       "    <tr>\n",
       "      <th>Donor_02!!C748!!AATCACGCACCGAATT-1</th>\n",
       "      <td>Adipocytes</td>\n",
       "      <td>visit3</td>\n",
       "      <td>Donor_02</td>\n",
       "      <td>Donor_02_visit3</td>\n",
       "    </tr>\n",
       "    <tr>\n",
       "      <th>...</th>\n",
       "      <td>...</td>\n",
       "      <td>...</td>\n",
       "      <td>...</td>\n",
       "      <td>...</td>\n",
       "    </tr>\n",
       "    <tr>\n",
       "      <th>Donor_88!!C751!!CAGATTGTCCGTGCGA-1</th>\n",
       "      <td>EC</td>\n",
       "      <td>visit3</td>\n",
       "      <td>Donor_88</td>\n",
       "      <td>Donor_88_visit3</td>\n",
       "    </tr>\n",
       "    <tr>\n",
       "      <th>Donor_88!!C751!!CACAGGCCAATTGTGC-1</th>\n",
       "      <td>Pericytes</td>\n",
       "      <td>visit3</td>\n",
       "      <td>Donor_88</td>\n",
       "      <td>Donor_88_visit3</td>\n",
       "    </tr>\n",
       "    <tr>\n",
       "      <th>Donor_88!!C751!!CCTATCGGTGAGTTGG-1</th>\n",
       "      <td>ASPCs</td>\n",
       "      <td>visit3</td>\n",
       "      <td>Donor_88</td>\n",
       "      <td>Donor_88_visit3</td>\n",
       "    </tr>\n",
       "    <tr>\n",
       "      <th>Donor_88!!C751!!ACGCACGAGCGCTTCG-1</th>\n",
       "      <td>EC</td>\n",
       "      <td>visit3</td>\n",
       "      <td>Donor_88</td>\n",
       "      <td>Donor_88_visit3</td>\n",
       "    </tr>\n",
       "    <tr>\n",
       "      <th>Donor_88!!C751!!GTACAGTCACCGGCTA-1</th>\n",
       "      <td>EC</td>\n",
       "      <td>visit3</td>\n",
       "      <td>Donor_88</td>\n",
       "      <td>Donor_88_visit3</td>\n",
       "    </tr>\n",
       "  </tbody>\n",
       "</table>\n",
       "<p>62558 rows × 4 columns</p>\n",
       "</div>"
      ],
      "text/plain": [
       "                                          anno   visit     donor  \\\n",
       "Donor_02!!C748!!GCCAGTGAGCCTCTCT-1          EC  visit3  Donor_02   \n",
       "Donor_02!!C748!!AATAGAGTCCTCTTTC-1          EC  visit3  Donor_02   \n",
       "Donor_02!!C748!!AAGACAAAGACTTAAG-1  Adipocytes  visit3  Donor_02   \n",
       "Donor_02!!C748!!CGAATTGAGACCATGG-1  Adipocytes  visit3  Donor_02   \n",
       "Donor_02!!C748!!AATCACGCACCGAATT-1  Adipocytes  visit3  Donor_02   \n",
       "...                                        ...     ...       ...   \n",
       "Donor_88!!C751!!CAGATTGTCCGTGCGA-1          EC  visit3  Donor_88   \n",
       "Donor_88!!C751!!CACAGGCCAATTGTGC-1   Pericytes  visit3  Donor_88   \n",
       "Donor_88!!C751!!CCTATCGGTGAGTTGG-1       ASPCs  visit3  Donor_88   \n",
       "Donor_88!!C751!!ACGCACGAGCGCTTCG-1          EC  visit3  Donor_88   \n",
       "Donor_88!!C751!!GTACAGTCACCGGCTA-1          EC  visit3  Donor_88   \n",
       "\n",
       "                                             sample  \n",
       "Donor_02!!C748!!GCCAGTGAGCCTCTCT-1  Donor_02_visit3  \n",
       "Donor_02!!C748!!AATAGAGTCCTCTTTC-1  Donor_02_visit3  \n",
       "Donor_02!!C748!!AAGACAAAGACTTAAG-1  Donor_02_visit3  \n",
       "Donor_02!!C748!!CGAATTGAGACCATGG-1  Donor_02_visit3  \n",
       "Donor_02!!C748!!AATCACGCACCGAATT-1  Donor_02_visit3  \n",
       "...                                             ...  \n",
       "Donor_88!!C751!!CAGATTGTCCGTGCGA-1  Donor_88_visit3  \n",
       "Donor_88!!C751!!CACAGGCCAATTGTGC-1  Donor_88_visit3  \n",
       "Donor_88!!C751!!CCTATCGGTGAGTTGG-1  Donor_88_visit3  \n",
       "Donor_88!!C751!!ACGCACGAGCGCTTCG-1  Donor_88_visit3  \n",
       "Donor_88!!C751!!GTACAGTCACCGGCTA-1  Donor_88_visit3  \n",
       "\n",
       "[62558 rows x 4 columns]"
      ]
     },
     "execution_count": 71,
     "metadata": {},
     "output_type": "execute_result"
    }
   ],
   "source": [
    "adatacp = adata[adata.obs[\"visit\"]=='visit3'].copy()\n",
    "adatacp.obs"
   ]
  },
  {
   "cell_type": "code",
   "execution_count": 8,
   "metadata": {},
   "outputs": [],
   "source": [
    "lr_pairs = li.resource.select_resource('consensus')\n",
    "lr_pairs = lr_pairs.astype(str)"
   ]
  },
  {
   "cell_type": "code",
   "execution_count": 9,
   "metadata": {},
   "outputs": [
    {
     "data": {
      "text/html": [
       "<div>\n",
       "<style scoped>\n",
       "    .dataframe tbody tr th:only-of-type {\n",
       "        vertical-align: middle;\n",
       "    }\n",
       "\n",
       "    .dataframe tbody tr th {\n",
       "        vertical-align: top;\n",
       "    }\n",
       "\n",
       "    .dataframe thead th {\n",
       "        text-align: right;\n",
       "    }\n",
       "</style>\n",
       "<table border=\"1\" class=\"dataframe\">\n",
       "  <thead>\n",
       "    <tr style=\"text-align: right;\">\n",
       "      <th></th>\n",
       "      <th>ligand</th>\n",
       "      <th>receptor</th>\n",
       "    </tr>\n",
       "  </thead>\n",
       "  <tbody>\n",
       "    <tr>\n",
       "      <th>0</th>\n",
       "      <td>LGALS9</td>\n",
       "      <td>PTPRC</td>\n",
       "    </tr>\n",
       "    <tr>\n",
       "      <th>1</th>\n",
       "      <td>LGALS9</td>\n",
       "      <td>MET</td>\n",
       "    </tr>\n",
       "    <tr>\n",
       "      <th>2</th>\n",
       "      <td>LGALS9</td>\n",
       "      <td>CD44</td>\n",
       "    </tr>\n",
       "    <tr>\n",
       "      <th>3</th>\n",
       "      <td>LGALS9</td>\n",
       "      <td>LRP1</td>\n",
       "    </tr>\n",
       "    <tr>\n",
       "      <th>4</th>\n",
       "      <td>LGALS9</td>\n",
       "      <td>CD47</td>\n",
       "    </tr>\n",
       "    <tr>\n",
       "      <th>...</th>\n",
       "      <td>...</td>\n",
       "      <td>...</td>\n",
       "    </tr>\n",
       "    <tr>\n",
       "      <th>4619</th>\n",
       "      <td>BMP2</td>\n",
       "      <td>ACTR2</td>\n",
       "    </tr>\n",
       "    <tr>\n",
       "      <th>4620</th>\n",
       "      <td>BMP15</td>\n",
       "      <td>ACTR2</td>\n",
       "    </tr>\n",
       "    <tr>\n",
       "      <th>4621</th>\n",
       "      <td>CSF1</td>\n",
       "      <td>CSF3R</td>\n",
       "    </tr>\n",
       "    <tr>\n",
       "      <th>4622</th>\n",
       "      <td>IL36G</td>\n",
       "      <td>IFNAR1</td>\n",
       "    </tr>\n",
       "    <tr>\n",
       "      <th>4623</th>\n",
       "      <td>IL36G</td>\n",
       "      <td>IFNAR2</td>\n",
       "    </tr>\n",
       "  </tbody>\n",
       "</table>\n",
       "<p>4624 rows × 2 columns</p>\n",
       "</div>"
      ],
      "text/plain": [
       "      ligand receptor\n",
       "0     LGALS9    PTPRC\n",
       "1     LGALS9      MET\n",
       "2     LGALS9     CD44\n",
       "3     LGALS9     LRP1\n",
       "4     LGALS9     CD47\n",
       "...      ...      ...\n",
       "4619    BMP2    ACTR2\n",
       "4620   BMP15    ACTR2\n",
       "4621    CSF1    CSF3R\n",
       "4622   IL36G   IFNAR1\n",
       "4623   IL36G   IFNAR2\n",
       "\n",
       "[4624 rows x 2 columns]"
      ]
     },
     "execution_count": 9,
     "metadata": {},
     "output_type": "execute_result"
    }
   ],
   "source": [
    "lr_pairs"
   ]
  },
  {
   "cell_type": "code",
   "execution_count": 72,
   "metadata": {},
   "outputs": [
    {
     "data": {
      "text/html": [
       "<div>\n",
       "<style scoped>\n",
       "    .dataframe tbody tr th:only-of-type {\n",
       "        vertical-align: middle;\n",
       "    }\n",
       "\n",
       "    .dataframe tbody tr th {\n",
       "        vertical-align: top;\n",
       "    }\n",
       "\n",
       "    .dataframe thead th {\n",
       "        text-align: right;\n",
       "    }\n",
       "</style>\n",
       "<table border=\"1\" class=\"dataframe\">\n",
       "  <thead>\n",
       "    <tr style=\"text-align: right;\">\n",
       "      <th></th>\n",
       "      <th>anno</th>\n",
       "      <th>visit</th>\n",
       "      <th>donor</th>\n",
       "      <th>barcode</th>\n",
       "    </tr>\n",
       "  </thead>\n",
       "  <tbody>\n",
       "    <tr>\n",
       "      <th>Donor_02!!C748!!GCCAGTGAGCCTCTCT-1</th>\n",
       "      <td>EC</td>\n",
       "      <td>visit3</td>\n",
       "      <td>Donor_02</td>\n",
       "      <td>Donor_02!!C748!!GCCAGTGAGCCTCTCT-1</td>\n",
       "    </tr>\n",
       "    <tr>\n",
       "      <th>Donor_02!!C748!!AATAGAGTCCTCTTTC-1</th>\n",
       "      <td>EC</td>\n",
       "      <td>visit3</td>\n",
       "      <td>Donor_02</td>\n",
       "      <td>Donor_02!!C748!!AATAGAGTCCTCTTTC-1</td>\n",
       "    </tr>\n",
       "    <tr>\n",
       "      <th>Donor_02!!C748!!AAGACAAAGACTTAAG-1</th>\n",
       "      <td>Adipocytes</td>\n",
       "      <td>visit3</td>\n",
       "      <td>Donor_02</td>\n",
       "      <td>Donor_02!!C748!!AAGACAAAGACTTAAG-1</td>\n",
       "    </tr>\n",
       "    <tr>\n",
       "      <th>Donor_02!!C748!!CGAATTGAGACCATGG-1</th>\n",
       "      <td>Adipocytes</td>\n",
       "      <td>visit3</td>\n",
       "      <td>Donor_02</td>\n",
       "      <td>Donor_02!!C748!!CGAATTGAGACCATGG-1</td>\n",
       "    </tr>\n",
       "    <tr>\n",
       "      <th>Donor_02!!C748!!AATCACGCACCGAATT-1</th>\n",
       "      <td>Adipocytes</td>\n",
       "      <td>visit3</td>\n",
       "      <td>Donor_02</td>\n",
       "      <td>Donor_02!!C748!!AATCACGCACCGAATT-1</td>\n",
       "    </tr>\n",
       "    <tr>\n",
       "      <th>...</th>\n",
       "      <td>...</td>\n",
       "      <td>...</td>\n",
       "      <td>...</td>\n",
       "      <td>...</td>\n",
       "    </tr>\n",
       "    <tr>\n",
       "      <th>Donor_88!!C751!!CAGATTGTCCGTGCGA-1</th>\n",
       "      <td>EC</td>\n",
       "      <td>visit3</td>\n",
       "      <td>Donor_88</td>\n",
       "      <td>Donor_88!!C751!!CAGATTGTCCGTGCGA-1</td>\n",
       "    </tr>\n",
       "    <tr>\n",
       "      <th>Donor_88!!C751!!CACAGGCCAATTGTGC-1</th>\n",
       "      <td>Pericytes</td>\n",
       "      <td>visit3</td>\n",
       "      <td>Donor_88</td>\n",
       "      <td>Donor_88!!C751!!CACAGGCCAATTGTGC-1</td>\n",
       "    </tr>\n",
       "    <tr>\n",
       "      <th>Donor_88!!C751!!CCTATCGGTGAGTTGG-1</th>\n",
       "      <td>ASPCs</td>\n",
       "      <td>visit3</td>\n",
       "      <td>Donor_88</td>\n",
       "      <td>Donor_88!!C751!!CCTATCGGTGAGTTGG-1</td>\n",
       "    </tr>\n",
       "    <tr>\n",
       "      <th>Donor_88!!C751!!ACGCACGAGCGCTTCG-1</th>\n",
       "      <td>EC</td>\n",
       "      <td>visit3</td>\n",
       "      <td>Donor_88</td>\n",
       "      <td>Donor_88!!C751!!ACGCACGAGCGCTTCG-1</td>\n",
       "    </tr>\n",
       "    <tr>\n",
       "      <th>Donor_88!!C751!!GTACAGTCACCGGCTA-1</th>\n",
       "      <td>EC</td>\n",
       "      <td>visit3</td>\n",
       "      <td>Donor_88</td>\n",
       "      <td>Donor_88!!C751!!GTACAGTCACCGGCTA-1</td>\n",
       "    </tr>\n",
       "  </tbody>\n",
       "</table>\n",
       "<p>62558 rows × 4 columns</p>\n",
       "</div>"
      ],
      "text/plain": [
       "                                          anno   visit     donor  \\\n",
       "Donor_02!!C748!!GCCAGTGAGCCTCTCT-1          EC  visit3  Donor_02   \n",
       "Donor_02!!C748!!AATAGAGTCCTCTTTC-1          EC  visit3  Donor_02   \n",
       "Donor_02!!C748!!AAGACAAAGACTTAAG-1  Adipocytes  visit3  Donor_02   \n",
       "Donor_02!!C748!!CGAATTGAGACCATGG-1  Adipocytes  visit3  Donor_02   \n",
       "Donor_02!!C748!!AATCACGCACCGAATT-1  Adipocytes  visit3  Donor_02   \n",
       "...                                        ...     ...       ...   \n",
       "Donor_88!!C751!!CAGATTGTCCGTGCGA-1          EC  visit3  Donor_88   \n",
       "Donor_88!!C751!!CACAGGCCAATTGTGC-1   Pericytes  visit3  Donor_88   \n",
       "Donor_88!!C751!!CCTATCGGTGAGTTGG-1       ASPCs  visit3  Donor_88   \n",
       "Donor_88!!C751!!ACGCACGAGCGCTTCG-1          EC  visit3  Donor_88   \n",
       "Donor_88!!C751!!GTACAGTCACCGGCTA-1          EC  visit3  Donor_88   \n",
       "\n",
       "                                                               barcode  \n",
       "Donor_02!!C748!!GCCAGTGAGCCTCTCT-1  Donor_02!!C748!!GCCAGTGAGCCTCTCT-1  \n",
       "Donor_02!!C748!!AATAGAGTCCTCTTTC-1  Donor_02!!C748!!AATAGAGTCCTCTTTC-1  \n",
       "Donor_02!!C748!!AAGACAAAGACTTAAG-1  Donor_02!!C748!!AAGACAAAGACTTAAG-1  \n",
       "Donor_02!!C748!!CGAATTGAGACCATGG-1  Donor_02!!C748!!CGAATTGAGACCATGG-1  \n",
       "Donor_02!!C748!!AATCACGCACCGAATT-1  Donor_02!!C748!!AATCACGCACCGAATT-1  \n",
       "...                                                                ...  \n",
       "Donor_88!!C751!!CAGATTGTCCGTGCGA-1  Donor_88!!C751!!CAGATTGTCCGTGCGA-1  \n",
       "Donor_88!!C751!!CACAGGCCAATTGTGC-1  Donor_88!!C751!!CACAGGCCAATTGTGC-1  \n",
       "Donor_88!!C751!!CCTATCGGTGAGTTGG-1  Donor_88!!C751!!CCTATCGGTGAGTTGG-1  \n",
       "Donor_88!!C751!!ACGCACGAGCGCTTCG-1  Donor_88!!C751!!ACGCACGAGCGCTTCG-1  \n",
       "Donor_88!!C751!!GTACAGTCACCGGCTA-1  Donor_88!!C751!!GTACAGTCACCGGCTA-1  \n",
       "\n",
       "[62558 rows x 4 columns]"
      ]
     },
     "execution_count": 72,
     "metadata": {},
     "output_type": "execute_result"
    }
   ],
   "source": [
    "meta = adatacp.obs.copy()\n",
    "meta[\"barcode\"] = meta.index\n",
    "meta = meta.drop(\"sample\", 1)\n",
    "meta"
   ]
  },
  {
   "cell_type": "code",
   "execution_count": 73,
   "metadata": {},
   "outputs": [],
   "source": [
    "interactions = c2c.analysis.SingleCellInteractions(rnaseq_data=adatacp.to_df().T,\n",
    "                                                   ppi_data=lr_pairs,\n",
    "                                                   metadata=meta,\n",
    "                                                   interaction_columns=('ligand', 'receptor'),\n",
    "                                                   communication_score='expression_thresholding',\n",
    "                                                   expression_threshold=0.2, # values after aggregation\n",
    "                                                   cci_score='bray_curtis',\n",
    "                                                   cci_type='undirected',\n",
    "                                                   aggregation_method='nn_cell_fraction',\n",
    "                                                   barcode_col='barcode',\n",
    "                                                   celltype_col='anno',\n",
    "                                                   complex_sep='&',\n",
    "                                                   verbose=False)"
   ]
  },
  {
   "cell_type": "code",
   "execution_count": 74,
   "metadata": {},
   "outputs": [
    {
     "name": "stdout",
     "output_type": "stream",
     "text": [
      "Computing pairwise communication\n",
      "Computing communication score between EC and Adipocytes\n",
      "Computing communication score between EC and ASPCs\n",
      "Computing communication score between Adipocytes and Myeloid immune cells\n",
      "Computing communication score between Adipocytes and Pericytes\n",
      "Computing communication score between SMCs and Lymphoid immune cells\n",
      "Computing communication score between SMCs and EC\n",
      "Computing communication score between EC and SMCs\n",
      "Computing communication score between Lymphoid immune cells and Myeloid immune cells\n",
      "Computing communication score between Lymphoid immune cells and Pericytes\n",
      "Computing communication score between Myeloid immune cells and Adipocytes\n",
      "Computing communication score between ASPCs and Myeloid immune cells\n",
      "Computing communication score between ASPCs and Pericytes\n",
      "Computing communication score between Myeloid immune cells and ASPCs\n",
      "Computing communication score between EC and Lymphoid immune cells\n",
      "Computing communication score between EC and EC\n",
      "Computing communication score between Myeloid immune cells and SMCs\n",
      "Computing communication score between SMCs and Myeloid immune cells\n",
      "Computing communication score between SMCs and Pericytes\n",
      "Computing communication score between Pericytes and Adipocytes\n",
      "Computing communication score between Pericytes and ASPCs\n",
      "Computing communication score between Myeloid immune cells and Lymphoid immune cells\n",
      "Computing communication score between Myeloid immune cells and EC\n",
      "Computing communication score between Adipocytes and Adipocytes\n",
      "Computing communication score between Lymphoid immune cells and Adipocytes\n",
      "Computing communication score between Pericytes and SMCs\n",
      "Computing communication score between EC and Myeloid immune cells\n",
      "Computing communication score between ASPCs and Adipocytes\n",
      "Computing communication score between Adipocytes and ASPCs\n",
      "Computing communication score between EC and Pericytes\n",
      "Computing communication score between Lymphoid immune cells and ASPCs\n",
      "Computing communication score between SMCs and SMCs\n",
      "Computing communication score between Pericytes and Lymphoid immune cells\n",
      "Computing communication score between ASPCs and ASPCs\n",
      "Computing communication score between Pericytes and EC\n",
      "Computing communication score between Adipocytes and SMCs\n",
      "Computing communication score between Lymphoid immune cells and SMCs\n",
      "Computing communication score between Adipocytes and Lymphoid immune cells\n",
      "Computing communication score between Myeloid immune cells and Myeloid immune cells\n",
      "Computing communication score between Myeloid immune cells and Pericytes\n",
      "Computing communication score between ASPCs and SMCs\n",
      "Computing communication score between Adipocytes and EC\n",
      "Computing communication score between Lymphoid immune cells and Lymphoid immune cells\n",
      "Computing communication score between SMCs and Adipocytes\n",
      "Computing communication score between ASPCs and Lymphoid immune cells\n",
      "Computing communication score between SMCs and ASPCs\n",
      "Computing communication score between Lymphoid immune cells and EC\n",
      "Computing communication score between ASPCs and EC\n",
      "Computing communication score between Pericytes and Myeloid immune cells\n",
      "Computing communication score between Pericytes and Pericytes\n"
     ]
    }
   ],
   "source": [
    "interactions.compute_pairwise_communication_scores()"
   ]
  },
  {
   "cell_type": "code",
   "execution_count": 75,
   "metadata": {},
   "outputs": [
    {
     "name": "stdout",
     "output_type": "stream",
     "text": [
      "Computing pairwise interactions\n",
      "Computing interaction score between Adipocytes and Myeloid immune cells\n",
      "Computing interaction score between Adipocytes and Pericytes\n",
      "Computing interaction score between EC and SMCs\n",
      "Computing interaction score between Lymphoid immune cells and Myeloid immune cells\n",
      "Computing interaction score between Lymphoid immune cells and Pericytes\n",
      "Computing interaction score between ASPCs and Myeloid immune cells\n",
      "Computing interaction score between ASPCs and Pericytes\n",
      "Computing interaction score between EC and Lymphoid immune cells\n",
      "Computing interaction score between EC and EC\n",
      "Computing interaction score between Myeloid immune cells and SMCs\n",
      "Computing interaction score between Adipocytes and Adipocytes\n",
      "Computing interaction score between Pericytes and SMCs\n",
      "Computing interaction score between EC and Myeloid immune cells\n",
      "Computing interaction score between ASPCs and Adipocytes\n",
      "Computing interaction score between EC and Pericytes\n",
      "Computing interaction score between SMCs and SMCs\n",
      "Computing interaction score between ASPCs and ASPCs\n",
      "Computing interaction score between Adipocytes and SMCs\n",
      "Computing interaction score between Lymphoid immune cells and SMCs\n",
      "Computing interaction score between Adipocytes and Lymphoid immune cells\n",
      "Computing interaction score between Myeloid immune cells and Pericytes\n",
      "Computing interaction score between Myeloid immune cells and Myeloid immune cells\n",
      "Computing interaction score between ASPCs and SMCs\n",
      "Computing interaction score between Adipocytes and EC\n",
      "Computing interaction score between Lymphoid immune cells and Lymphoid immune cells\n",
      "Computing interaction score between ASPCs and Lymphoid immune cells\n",
      "Computing interaction score between ASPCs and EC\n",
      "Computing interaction score between Pericytes and Pericytes\n"
     ]
    }
   ],
   "source": [
    "interactions.compute_pairwise_cci_scores()"
   ]
  },
  {
   "cell_type": "code",
   "execution_count": 76,
   "metadata": {},
   "outputs": [
    {
     "name": "stderr",
     "output_type": "stream",
     "text": [
      "100%|██████████| 10/10 [01:13<00:00,  7.36s/it]\n"
     ]
    }
   ],
   "source": [
    "cci_pvals = interactions.permute_cell_labels(evaluation='interactions', \n",
    "                                             permutations=10, \n",
    "                                             fdr_correction=False,\n",
    "                                             verbose=True)"
   ]
  },
  {
   "cell_type": "code",
   "execution_count": 77,
   "metadata": {},
   "outputs": [
    {
     "data": {
      "text/html": [
       "<div>\n",
       "<style scoped>\n",
       "    .dataframe tbody tr th:only-of-type {\n",
       "        vertical-align: middle;\n",
       "    }\n",
       "\n",
       "    .dataframe tbody tr th {\n",
       "        vertical-align: top;\n",
       "    }\n",
       "\n",
       "    .dataframe thead th {\n",
       "        text-align: right;\n",
       "    }\n",
       "</style>\n",
       "<table border=\"1\" class=\"dataframe\">\n",
       "  <thead>\n",
       "    <tr style=\"text-align: right;\">\n",
       "      <th></th>\n",
       "      <th>ASPCs</th>\n",
       "      <th>Adipocytes</th>\n",
       "      <th>EC</th>\n",
       "      <th>Lymphoid immune cells</th>\n",
       "      <th>Myeloid immune cells</th>\n",
       "      <th>Pericytes</th>\n",
       "      <th>SMCs</th>\n",
       "    </tr>\n",
       "  </thead>\n",
       "  <tbody>\n",
       "    <tr>\n",
       "      <th>ASPCs</th>\n",
       "      <td>-4.440892e-16</td>\n",
       "      <td>-4.440892e-16</td>\n",
       "      <td>0.181818</td>\n",
       "      <td>0.181818</td>\n",
       "      <td>0.181818</td>\n",
       "      <td>0.181818</td>\n",
       "      <td>-4.440892e-16</td>\n",
       "    </tr>\n",
       "    <tr>\n",
       "      <th>Adipocytes</th>\n",
       "      <td>-4.440892e-16</td>\n",
       "      <td>-4.440892e-16</td>\n",
       "      <td>0.181818</td>\n",
       "      <td>0.181818</td>\n",
       "      <td>0.181818</td>\n",
       "      <td>0.181818</td>\n",
       "      <td>1.818182e-01</td>\n",
       "    </tr>\n",
       "    <tr>\n",
       "      <th>EC</th>\n",
       "      <td>1.818182e-01</td>\n",
       "      <td>1.818182e-01</td>\n",
       "      <td>0.181818</td>\n",
       "      <td>0.181818</td>\n",
       "      <td>0.181818</td>\n",
       "      <td>0.181818</td>\n",
       "      <td>1.818182e-01</td>\n",
       "    </tr>\n",
       "    <tr>\n",
       "      <th>Lymphoid immune cells</th>\n",
       "      <td>1.818182e-01</td>\n",
       "      <td>1.818182e-01</td>\n",
       "      <td>0.181818</td>\n",
       "      <td>0.181818</td>\n",
       "      <td>0.181818</td>\n",
       "      <td>0.181818</td>\n",
       "      <td>1.818182e-01</td>\n",
       "    </tr>\n",
       "    <tr>\n",
       "      <th>Myeloid immune cells</th>\n",
       "      <td>1.818182e-01</td>\n",
       "      <td>1.818182e-01</td>\n",
       "      <td>0.181818</td>\n",
       "      <td>0.181818</td>\n",
       "      <td>0.181818</td>\n",
       "      <td>0.181818</td>\n",
       "      <td>1.818182e-01</td>\n",
       "    </tr>\n",
       "    <tr>\n",
       "      <th>Pericytes</th>\n",
       "      <td>1.818182e-01</td>\n",
       "      <td>1.818182e-01</td>\n",
       "      <td>0.181818</td>\n",
       "      <td>0.181818</td>\n",
       "      <td>0.181818</td>\n",
       "      <td>0.181818</td>\n",
       "      <td>1.818182e-01</td>\n",
       "    </tr>\n",
       "    <tr>\n",
       "      <th>SMCs</th>\n",
       "      <td>-4.440892e-16</td>\n",
       "      <td>1.818182e-01</td>\n",
       "      <td>0.181818</td>\n",
       "      <td>0.181818</td>\n",
       "      <td>0.181818</td>\n",
       "      <td>0.181818</td>\n",
       "      <td>1.818182e-01</td>\n",
       "    </tr>\n",
       "  </tbody>\n",
       "</table>\n",
       "</div>"
      ],
      "text/plain": [
       "                              ASPCs    Adipocytes        EC  \\\n",
       "ASPCs                 -4.440892e-16 -4.440892e-16  0.181818   \n",
       "Adipocytes            -4.440892e-16 -4.440892e-16  0.181818   \n",
       "EC                     1.818182e-01  1.818182e-01  0.181818   \n",
       "Lymphoid immune cells  1.818182e-01  1.818182e-01  0.181818   \n",
       "Myeloid immune cells   1.818182e-01  1.818182e-01  0.181818   \n",
       "Pericytes              1.818182e-01  1.818182e-01  0.181818   \n",
       "SMCs                  -4.440892e-16  1.818182e-01  0.181818   \n",
       "\n",
       "                       Lymphoid immune cells  Myeloid immune cells  Pericytes  \\\n",
       "ASPCs                               0.181818              0.181818   0.181818   \n",
       "Adipocytes                          0.181818              0.181818   0.181818   \n",
       "EC                                  0.181818              0.181818   0.181818   \n",
       "Lymphoid immune cells               0.181818              0.181818   0.181818   \n",
       "Myeloid immune cells                0.181818              0.181818   0.181818   \n",
       "Pericytes                           0.181818              0.181818   0.181818   \n",
       "SMCs                                0.181818              0.181818   0.181818   \n",
       "\n",
       "                               SMCs  \n",
       "ASPCs                 -4.440892e-16  \n",
       "Adipocytes             1.818182e-01  \n",
       "EC                     1.818182e-01  \n",
       "Lymphoid immune cells  1.818182e-01  \n",
       "Myeloid immune cells   1.818182e-01  \n",
       "Pericytes              1.818182e-01  \n",
       "SMCs                   1.818182e-01  "
      ]
     },
     "execution_count": 77,
     "metadata": {},
     "output_type": "execute_result"
    }
   ],
   "source": [
    "cci_pvals"
   ]
  },
  {
   "cell_type": "code",
   "execution_count": 78,
   "metadata": {},
   "outputs": [
    {
     "name": "stdout",
     "output_type": "stream",
     "text": [
      "Interaction space detected as a Interactions class\n"
     ]
    },
    {
     "data": {
      "image/png": "[encoded data removed]",
      "text/plain": [
       "<Figure size 1000x1000 with 4 Axes>"
      ]
     },
     "metadata": {},
     "output_type": "display_data"
    }
   ],
   "source": [
    "c2c.plotting.clustermap_cci(interactions, vmin = 0.1, vmax = 0.2)\n",
    "plt.savefig(fname = \"6A-visit3_CCI.pdf\")"
   ]
  },
  {
   "cell_type": "code",
   "execution_count": 79,
   "metadata": {},
   "outputs": [],
   "source": [
    "interactions.interaction_elements[\"cci_matrix\"].to_csv(\"/work/02_data/00_prints/6A-visit3_CCI.tsv\", sep = \"\\t\")"
   ]
  }
 ],
 "metadata": {
  "kernelspec": {
   "display_name": "liana",
   "language": "python",
   "name": "liana"
  },
  "language_info": {
   "codemirror_mode": {
    "name": "ipython",
    "version": 3
   },
   "file_extension": ".py",
   "mimetype": "text/x-python",
   "name": "python",
   "nbconvert_exporter": "python",
   "pygments_lexer": "ipython3",
   "version": "3.8.16"
  }
 },
 "nbformat": 4,
 "nbformat_minor": 4
}
